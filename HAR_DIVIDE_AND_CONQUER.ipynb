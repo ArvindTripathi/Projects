{
 "cells": [
  {
   "cell_type": "markdown",
   "metadata": {
    "colab_type": "text",
    "id": "4fLkQIcClx3A"
   },
   "source": [
    "# HumanActivityRecognition\n",
    "\n",
    "<br>\n",
    "\n",
    "\n",
    "This project is to build a model that predicts the human activities such as Walking, Walking_Upstairs, Walking_Downstairs, Sitting, Standing or Laying.\n",
    "\n",
    "This dataset is collected from 30 persons(referred as subjects in this dataset), performing different activities with a smartphone to their waists. The data is recorded with the help of sensors (accelerometer and Gyroscope) in that smartphone. This experiment was video recorded to label the data manually.\n",
    "\n",
    "## How data was recorded\n",
    "\n",
    "By using the sensors(Gyroscope and accelerometer) in a smartphone, they have captured '3-axial linear acceleration'(_tAcc-XYZ_) from accelerometer and '3-axial angular velocity' (_tGyro-XYZ_) from Gyroscope with several variations. \n",
    "\n",
    "> prefix 't' in those metrics denotes time.\n",
    "\n",
    "> suffix 'XYZ' represents 3-axial signals in X , Y, and Z directions.\n",
    "\n",
    "### Feature names\n",
    "\n",
    "1. These sensor signals are preprocessed by applying noise filters and then sampled in fixed-width windows(sliding windows) of 2.56 seconds each with 50% overlap. ie., each window has 128 readings. \n",
    "\n",
    "2. From Each window, a feature vector was obtianed by calculating variables from the time and frequency domain.\n",
    "> In our dataset, each datapoint represents a window with different readings \n",
    "3. The accelertion signal was saperated into Body and Gravity acceleration signals(___tBodyAcc-XYZ___ and ___tGravityAcc-XYZ___) using some low pass filter with corner frequecy of 0.3Hz.\n",
    "\n",
    "4. After that, the body linear acceleration and angular velocity were derived in time to obtian _jerk signals_ (___tBodyAccJerk-XYZ___ and ___tBodyGyroJerk-XYZ___). \n",
    "\n",
    "5. The magnitude of these 3-dimensional signals were calculated using the Euclidian norm. This magnitudes are represented as features with names like _tBodyAccMag_, _tGravityAccMag_, _tBodyAccJerkMag_, _tBodyGyroMag_ and _tBodyGyroJerkMag_.\n",
    "\n",
    "6. Finally, We've got frequency domain signals from some of the available signals by applying a FFT (Fast Fourier Transform). These signals obtained were labeled with ___prefix 'f'___ just like original signals with ___prefix 't'___. These signals are labeled as ___fBodyAcc-XYZ___, ___fBodyGyroMag___ etc.,.\n",
    "\n",
    "7. These are the signals that we got so far.\n",
    "\t+ tBodyAcc-XYZ\n",
    "\t+ tGravityAcc-XYZ\n",
    "\t+ tBodyAccJerk-XYZ\n",
    "\t+ tBodyGyro-XYZ\n",
    "\t+ tBodyGyroJerk-XYZ\n",
    "\t+ tBodyAccMag\n",
    "\t+ tGravityAccMag\n",
    "\t+ tBodyAccJerkMag\n",
    "\t+ tBodyGyroMag\n",
    "\t+ tBodyGyroJerkMag\n",
    "\t+ fBodyAcc-XYZ\n",
    "\t+ fBodyAccJerk-XYZ\n",
    "\t+ fBodyGyro-XYZ\n",
    "\t+ fBodyAccMag\n",
    "\t+ fBodyAccJerkMag\n",
    "\t+ fBodyGyroMag\n",
    "\t+ fBodyGyroJerkMag\n",
    "\n",
    "8. We can esitmate some set of variables from the above signals. ie., We will estimate the following properties on each and every signal that we recoreded so far.\n",
    "\n",
    "\t+ ___mean()___: Mean value\n",
    "\t+ ___std()___: Standard deviation\n",
    "\t+ ___mad()___: Median absolute deviation \n",
    "\t+ ___max()___: Largest value in array\n",
    "\t+ ___min()___: Smallest value in array\n",
    "\t+ ___sma()___: Signal magnitude area\n",
    "\t+ ___energy()___: Energy measure. Sum of the squares divided by the number of values. \n",
    "\t+ ___iqr()___: Interquartile range \n",
    "\t+ ___entropy()___: Signal entropy\n",
    "\t+ ___arCoeff()___: Autorregresion coefficients with Burg order equal to 4\n",
    "\t+ ___correlation()___: correlation coefficient between two signals\n",
    "\t+ ___maxInds()___: index of the frequency component with largest magnitude\n",
    "\t+ ___meanFreq()___: Weighted average of the frequency components to obtain a mean frequency\n",
    "\t+ ___skewness()___: skewness of the frequency domain signal \n",
    "\t+ ___kurtosis()___: kurtosis of the frequency domain signal \n",
    "\t+ ___bandsEnergy()___: Energy of a frequency interval within the 64 bins of the FFT of each window.\n",
    "\t+ ___angle()___: Angle between to vectors.\n",
    "\n",
    "9. We can obtain some other vectors by taking the average of signals in a single window sample. These are used on the angle() variable'\n",
    "`\n",
    "\t+ gravityMean\n",
    "\t+ tBodyAccMean\n",
    "\t+ tBodyAccJerkMean\n",
    "\t+ tBodyGyroMean\n",
    "\t+ tBodyGyroJerkMean\n",
    "\n",
    "\n",
    "###  Y_Labels(Encoded)\n",
    "+ In the dataset, Y_labels are represented as numbers from 1 to 6 as their identifiers.\n",
    "\n",
    "\t- WALKING as __1__\n",
    "\t- WALKING_UPSTAIRS as __2__\n",
    "\t- WALKING_DOWNSTAIRS as __3__\n",
    "\t- SITTING as __4__\n",
    "\t- STANDING as __5__\n",
    "\t- LAYING as __6__\n",
    "    \n",
    "## Train and test data were saperated\n",
    " - The readings from ___70%___ of the volunteers were taken as ___trianing data___ and remaining ___30%___ subjects recordings were taken for ___test data___\n",
    " \n",
    "## Data\n",
    "\n",
    "* All the data is present in 'UCI_HAR_dataset/' folder in present working directory.\n",
    "     - Feature names are present in 'UCI_HAR_dataset/features.txt'\n",
    "     - ___Train Data___\n",
    "         - 'UCI_HAR_dataset/train/X_train.txt'\n",
    "         - 'UCI_HAR_dataset/train/subject_train.txt'\n",
    "         - 'UCI_HAR_dataset/train/y_train.txt'\n",
    "     - ___Test Data___\n",
    "         - 'UCI_HAR_dataset/test/X_test.txt'\n",
    "         - 'UCI_HAR_dataset/test/subject_test.txt'\n",
    "         - 'UCI_HAR_dataset/test/y_test.txt'\n",
    "         \n",
    "\n",
    "## Data Size :\n",
    "> 27 MB\n"
   ]
  },
  {
   "cell_type": "markdown",
   "metadata": {
    "colab_type": "text",
    "id": "AHd87Yvxlx3C"
   },
   "source": [
    "# Quick overview of the dataset :\n"
   ]
  },
  {
   "cell_type": "markdown",
   "metadata": {
    "colab_type": "text",
    "id": "X7QOhI4Tlx3E"
   },
   "source": [
    "\n",
    "* Accelerometer and Gyroscope readings are taken from 30 volunteers(referred as subjects) while performing the following 6 Activities.\n",
    "\n",
    "    1. Walking     \n",
    "    2. WalkingUpstairs \n",
    "    3. WalkingDownstairs \n",
    "    4. Standing \n",
    "    5. Sitting \n",
    "    6. Lying.\n",
    "\n",
    "\n",
    "* Readings are divided into a window of 2.56 seconds with 50% overlapping. \n",
    "\n",
    "* Accelerometer readings are divided into gravity acceleration and body acceleration readings,\n",
    "  which has x,y and z components each.\n",
    "\n",
    "* Gyroscope readings are the measure of angular velocities which has x,y and z components.\n",
    "\n",
    "* Jerk signals are calculated for BodyAcceleration readings.\n",
    "\n",
    "* Fourier Transforms are made on the above time readings to obtain frequency readings.\n",
    "\n",
    "* Now, on all the base signal readings., mean, max, mad, sma, arcoefficient, engerybands,entropy etc., are calculated for each window.\n",
    "\n",
    "* We get a feature vector of 561 features and these features are given in the dataset.\n",
    "\n",
    "* Each window of readings is a datapoint of 561 features.\n",
    "\n",
    "## Problem Framework\n",
    "\n",
    "* 30 subjects(volunteers) data is randomly split to 70%(21) test and 30%(7) train data.\n",
    "* Each datapoint corresponds one of the 6 Activities.\n"
   ]
  },
  {
   "cell_type": "markdown",
   "metadata": {
    "colab_type": "text",
    "id": "mD3k75Mtlx3G"
   },
   "source": [
    "## Problem Statement\n",
    "\n",
    " + Given a new datapoint we have to predict the Activity"
   ]
  },
  {
   "cell_type": "code",
   "execution_count": 13,
   "metadata": {
    "colab": {
     "base_uri": "https://localhost:8080/",
     "height": 34
    },
    "colab_type": "code",
    "id": "eHTohgGcl8wq",
    "outputId": "85aaa793-0ad4-4dd5-ca55-e678cc3eaca2"
   },
   "outputs": [
    {
     "name": "stdout",
     "output_type": "stream",
     "text": [
      "Drive already mounted at /content/gdrive; to attempt to forcibly remount, call drive.mount(\"/content/gdrive\", force_remount=True).\n"
     ]
    }
   ],
   "source": [
    "import os\n",
    "from google.colab import drive\n",
    "drive.mount('/content/gdrive')\n",
    "os.chdir(\"gdrive/My Drive/UCI_HAR_Dataset/HAR/UCI_HAR_Dataset\")"
   ]
  },
  {
   "cell_type": "code",
   "execution_count": 42,
   "metadata": {
    "colab": {
     "base_uri": "https://localhost:8080/",
     "height": 34
    },
    "colab_type": "code",
    "id": "4BvyHLvulx3J",
    "outputId": "f5c6d9d8-22b1-4e5a-e464-90ae687d3a23"
   },
   "outputs": [
    {
     "name": "stdout",
     "output_type": "stream",
     "text": [
      "No of Features: 561\n"
     ]
    }
   ],
   "source": [
    "import numpy as np\n",
    "import pandas as pd\n",
    "import os\n",
    "import random\n",
    "from numpy.random import seed\n",
    "from keras.optimizers import Adam\n",
    "from keras.models import Sequential\n",
    "from keras.layers import Conv1D, Dense, Flatten, Dropout\n",
    "from keras.callbacks import ModelCheckpoint\n",
    "from keras.utils import plot_model\n",
    "import keras.backend as K\n",
    "from sklearn.metrics import accuracy_score\n",
    "from sklearn.metrics import confusion_matrix\n",
    "import seaborn as sn\n",
    "import matplotlib.pyplot as plt\n",
    "\n",
    "# get the features from the file features.txt\n",
    "features = list()\n",
    "with open('features.txt') as f:\n",
    "    features = [line.split()[1] for line in f.readlines()]\n",
    "print('No of Features: {}'.format(len(features)))"
   ]
  },
  {
   "cell_type": "markdown",
   "metadata": {
    "colab_type": "text",
    "id": "pF4PrGgelx3X"
   },
   "source": [
    "## Obtain the  train data "
   ]
  },
  {
   "cell_type": "code",
   "execution_count": 0,
   "metadata": {
    "colab": {},
    "colab_type": "code",
    "id": "NoyOAeuTlx3b"
   },
   "outputs": [],
   "source": [
    "x_path_train = 'train/X_train.txt'\n",
    "x_path_test  = 'test/X_test.txt'\n",
    "# Obtaing X_train\n",
    "with open(x_path_train) as f:\n",
    "    container = f.readlines()\n",
    "result = []\n",
    "for line in container:\n",
    "    tmp1 = line.strip()\n",
    "    tmp2 = tmp1.replace('  ', ' ')     # removes inconsistent blank spaces\n",
    "    tmp_ary = list(map(float, tmp2.split(' ')))\n",
    "    result.append(tmp_ary)\n",
    "X_train_all = np.array(result)\n",
    "# Obtaing X_test\n",
    "with open(x_path_test) as f:\n",
    "    container = f.readlines()\n",
    "result = []\n",
    "for line in container:\n",
    "    tmp1 = line.strip()\n",
    "    tmp2 = tmp1.replace('  ', ' ')     # removes inconsistent blank spaces\n",
    "    tmp_ary = list(map(float, tmp2.split(' ')))\n",
    "    result.append(tmp_ary)\n",
    "X_test_all = np.array(result)"
   ]
  },
  {
   "cell_type": "markdown",
   "metadata": {
    "colab_type": "text",
    "id": "z-5ri4xClx3i"
   },
   "source": [
    "## Obtain the  test data "
   ]
  },
  {
   "cell_type": "code",
   "execution_count": 0,
   "metadata": {
    "colab": {},
    "colab_type": "code",
    "id": "ucxPdfEwlx3j"
   },
   "outputs": [],
   "source": [
    "y_path_train = 'train/y_train.txt'\n",
    "y_path_test  = 'test/y_test.txt'\n",
    "with open(y_path_train) as f:\n",
    "    container = f.readlines()\n",
    "result = []\n",
    "for line in container:\n",
    "    num_str = line.strip()\n",
    "    result.append(int(num_str))\n",
    "y_train_all = np.array(result)\n",
    "with open(y_path_test) as f:\n",
    "    container = f.readlines()\n",
    "result = []\n",
    "for line in container:\n",
    "    num_str = line.strip()\n",
    "    result.append(int(num_str))\n",
    "y_test_all = np.array(result)"
   ]
  },
  {
   "cell_type": "code",
   "execution_count": 21,
   "metadata": {
    "colab": {
     "base_uri": "https://localhost:8080/",
     "height": 51
    },
    "colab_type": "code",
    "id": "B54TUyWvlx3o",
    "outputId": "29b4c82f-5a60-4a54-cc99-4ac62093adbd"
   },
   "outputs": [
    {
     "name": "stdout",
     "output_type": "stream",
     "text": [
      "Shape of X_train :(7352, 561) & y_train :(7352,)\n",
      "Shape of X_test  :(2947, 561) & y_test  :(2947,)\n"
     ]
    }
   ],
   "source": [
    "print(\"Shape of X_train :{} & y_train :{}\".format(X_train_all.shape,y_train_all.shape))\n",
    "print(\"Shape of X_test  :{} & y_test  :{}\".format(X_test_all.shape,y_test_all.shape))"
   ]
  },
  {
   "cell_type": "code",
   "execution_count": 0,
   "metadata": {
    "colab": {},
    "colab_type": "code",
    "id": "8Y2tA66blx3w"
   },
   "outputs": [],
   "source": [
    "def sharpen(x_test, sigma, alpha):\n",
    "    r = x_test.shape[0]\n",
    "    c = x_test.shape[1]\n",
    "    container = np.empty((r, c))\n",
    "    i = 0\n",
    "\n",
    "    for row in x_test:\n",
    "        test = np.array([row])\n",
    "        blurred = ndimage.gaussian_filter(test, sigma)\n",
    "        sharpened = test + alpha * (test - blurred)\n",
    "        container[i] = sharpened\n",
    "        i = i + 1\n",
    "    return container"
   ]
  },
  {
   "cell_type": "code",
   "execution_count": 17,
   "metadata": {},
   "outputs": [
    {
     "data": {
      "image/jpeg": "[encoded data removed]",
      "text/plain": [
       "<IPython.core.display.Image object>"
      ]
     },
     "metadata": {},
     "output_type": "display_data"
    }
   ],
   "source": [
    "from IPython.display import display, Image\n",
    "display(Image(filename='divide.jpg'))"
   ]
  },
  {
   "cell_type": "markdown",
   "metadata": {
    "colab_type": "text",
    "id": "YJ1VUnY6lx31"
   },
   "source": [
    "# Obtaining Static Data From Our Dataset"
   ]
  },
  {
   "cell_type": "markdown",
   "metadata": {
    "colab_type": "text",
    "id": "1evylGLdlx32"
   },
   "source": [
    "HERE WE WILL GET THE INDEXES OF THE ACTICITIES WHOSE LABEL IS 4,5,6 WE DIVIDE THEM INTO THREE VARIABLES AND THEN WE CONCATENATE THEM \n",
    "\n",
    "AFTER THAT WE CREATED A LIST OF ALL THE INDEXES WHICH CONTAINS OUR STATIC "
   ]
  },
  {
   "cell_type": "code",
   "execution_count": 0,
   "metadata": {
    "colab": {},
    "colab_type": "code",
    "id": "mi5A4GjUlx34"
   },
   "outputs": [],
   "source": [
    "static_1 = np.where(y_train_all == 4)[0]\n",
    "static_2 = np.where(y_train_all == 5)[0]\n",
    "static_3 = np.where(y_train_all == 6)[0]\n",
    "static = np.concatenate([static_1, static_2, static_3])\n",
    "static_list = static.tolist()"
   ]
  },
  {
   "cell_type": "code",
   "execution_count": 24,
   "metadata": {
    "colab": {
     "base_uri": "https://localhost:8080/",
     "height": 85
    },
    "colab_type": "code",
    "id": "PCEPI6q-lx3-",
    "outputId": "c0a32a20-c847-4848-a5d8-b9e39c0269ce"
   },
   "outputs": [
    {
     "name": "stdout",
     "output_type": "stream",
     "text": [
      "Shape of static_1 : (1286,) & Shape of static_2 : (1374,) & Shape of static_3 : (1407,)\n",
      "Shape of y_train_all for Activities 4 , 5 ,6 : (4067,)\n",
      "We can see the shape is matching to our train data\n",
      "1286 + 1374 + 1407 = 4067\n"
     ]
    }
   ],
   "source": [
    "print(\"Shape of static_1 : {} & Shape of static_2 : {} & Shape of static_3 : {}\".format(static_1.shape,static_2.shape,static_3.shape))\n",
    "temp = np.where(y_train_all > 3 )[0]\n",
    "print(\"Shape of y_train_all for Activities 4 , 5 ,6 :\",temp.shape)\n",
    "print(\"We can see the shape is matching to our train data\")\n",
    "print(\"1286 + 1374 + 1407 =\",1286 + 1374 + 1407)"
   ]
  },
  {
   "cell_type": "code",
   "execution_count": 0,
   "metadata": {
    "colab": {},
    "colab_type": "code",
    "id": "-YTTmSj-lx4H"
   },
   "outputs": [],
   "source": [
    "# Shuffle static data index\n",
    "import random\n",
    "r = random.random()\n",
    "random.shuffle(static_list, lambda: r)"
   ]
  },
  {
   "cell_type": "code",
   "execution_count": 0,
   "metadata": {
    "colab": {},
    "colab_type": "code",
    "id": "ouwbSArYlx4N"
   },
   "outputs": [],
   "source": [
    "X_train = X_train_all[static]\n",
    "y_train = y_train_all[static]"
   ]
  },
  {
   "cell_type": "code",
   "execution_count": 0,
   "metadata": {
    "colab": {},
    "colab_type": "code",
    "id": "iYMGvhU2lx4T"
   },
   "outputs": [],
   "source": [
    "# Convert (4, 5, 6) labels to (0, 1, 2)\n",
    "y_train  = y_train - 4"
   ]
  },
  {
   "cell_type": "code",
   "execution_count": 28,
   "metadata": {
    "colab": {
     "base_uri": "https://localhost:8080/",
     "height": 34
    },
    "colab_type": "code",
    "id": "1P-Tb2Halx4Y",
    "outputId": "70764a63-fc7d-4c33-88ea-775c90b655cb"
   },
   "outputs": [
    {
     "name": "stdout",
     "output_type": "stream",
     "text": [
      "train_static shape:  (4067, 561)\n"
     ]
    }
   ],
   "source": [
    "print (\"train_static shape: \", X_train.shape)"
   ]
  },
  {
   "cell_type": "code",
   "execution_count": 0,
   "metadata": {
    "colab": {},
    "colab_type": "code",
    "id": "-N3ZCe02lx4h"
   },
   "outputs": [],
   "source": [
    "static_1 = np.where(y_test_all == 4)[0]\n",
    "static_2 = np.where(y_test_all == 5)[0]\n",
    "static_3 = np.where(y_test_all == 6)[0]\n",
    "static = np.concatenate([static_1, static_2, static_3])"
   ]
  },
  {
   "cell_type": "code",
   "execution_count": 0,
   "metadata": {
    "colab": {},
    "colab_type": "code",
    "id": "KEhwENZulx4m"
   },
   "outputs": [],
   "source": [
    "X_test = X_test_all[static]\n",
    "y_test = y_test_all[static]"
   ]
  },
  {
   "cell_type": "code",
   "execution_count": 0,
   "metadata": {
    "colab": {},
    "colab_type": "code",
    "id": "Q1pxD_R2lx4r"
   },
   "outputs": [],
   "source": [
    "# Convert (4, 5, 6) labels to (0, 1, 2)\n",
    "y_test  = y_test - 4"
   ]
  },
  {
   "cell_type": "code",
   "execution_count": 32,
   "metadata": {
    "colab": {
     "base_uri": "https://localhost:8080/",
     "height": 34
    },
    "colab_type": "code",
    "id": "L5xyb2KAlx4z",
    "outputId": "1816d8d5-e772-4695-f280-9522786f01fd"
   },
   "outputs": [
    {
     "name": "stdout",
     "output_type": "stream",
     "text": [
      "test_static shape:  (1560, 561)\n"
     ]
    }
   ],
   "source": [
    "print (\"test_static shape: \", X_test.shape)"
   ]
  },
  {
   "cell_type": "code",
   "execution_count": 0,
   "metadata": {
    "colab": {},
    "colab_type": "code",
    "id": "DmjU62cJlx46"
   },
   "outputs": [],
   "source": [
    "n_classes = 3\n",
    "\n",
    "# Convert to one hot encoding vector\n",
    "y_train_static_oh = np.eye(n_classes)[y_train]"
   ]
  },
  {
   "cell_type": "code",
   "execution_count": 15,
   "metadata": {},
   "outputs": [
    {
     "data": {
      "image/png": "[encoded data removed]",
      "text/plain": [
       "<IPython.core.display.Image object>"
      ]
     },
     "metadata": {},
     "output_type": "display_data"
    }
   ],
   "source": [
    "from IPython.display import display, Image\n",
    "display(Image(filename='Static.png'))"
   ]
  },
  {
   "cell_type": "code",
   "execution_count": 34,
   "metadata": {
    "colab": {
     "base_uri": "https://localhost:8080/",
     "height": 615
    },
    "colab_type": "code",
    "id": "r1EPvgLulx5B",
    "outputId": "60713316-8540-42de-a5a0-45c974c7243d"
   },
   "outputs": [
    {
     "name": "stderr",
     "output_type": "stream",
     "text": [
      "WARNING: Logging before flag parsing goes to stderr.\n",
      "W0703 06:56:23.298175 139679021356928 deprecation_wrapper.py:119] From /usr/local/lib/python3.6/dist-packages/keras/backend/tensorflow_backend.py:74: The name tf.get_default_graph is deprecated. Please use tf.compat.v1.get_default_graph instead.\n",
      "\n",
      "W0703 06:56:23.344070 139679021356928 deprecation_wrapper.py:119] From /usr/local/lib/python3.6/dist-packages/keras/backend/tensorflow_backend.py:517: The name tf.placeholder is deprecated. Please use tf.compat.v1.placeholder instead.\n",
      "\n",
      "W0703 06:56:23.355069 139679021356928 deprecation_wrapper.py:119] From /usr/local/lib/python3.6/dist-packages/keras/backend/tensorflow_backend.py:4138: The name tf.random_uniform is deprecated. Please use tf.random.uniform instead.\n",
      "\n",
      "W0703 06:56:23.465108 139679021356928 deprecation_wrapper.py:119] From /usr/local/lib/python3.6/dist-packages/keras/backend/tensorflow_backend.py:133: The name tf.placeholder_with_default is deprecated. Please use tf.compat.v1.placeholder_with_default instead.\n",
      "\n",
      "W0703 06:56:23.478670 139679021356928 deprecation.py:506] From /usr/local/lib/python3.6/dist-packages/keras/backend/tensorflow_backend.py:3445: calling dropout (from tensorflow.python.ops.nn_ops) with keep_prob is deprecated and will be removed in a future version.\n",
      "Instructions for updating:\n",
      "Please use `rate` instead of `keep_prob`. Rate should be set to `rate = 1 - keep_prob`.\n",
      "W0703 06:56:23.522716 139679021356928 deprecation_wrapper.py:119] From /usr/local/lib/python3.6/dist-packages/keras/optimizers.py:790: The name tf.train.Optimizer is deprecated. Please use tf.compat.v1.train.Optimizer instead.\n",
      "\n"
     ]
    },
    {
     "name": "stdout",
     "output_type": "stream",
     "text": [
      "_________________________________________________________________\n",
      "Layer (type)                 Output Shape              Param #   \n",
      "=================================================================\n",
      "conv1d_1 (Conv1D)            (None, 559, 30)           120       \n",
      "_________________________________________________________________\n",
      "conv1d_2 (Conv1D)            (None, 557, 50)           4550      \n",
      "_________________________________________________________________\n",
      "conv1d_3 (Conv1D)            (None, 555, 100)          15100     \n",
      "_________________________________________________________________\n",
      "flatten_1 (Flatten)          (None, 55500)             0         \n",
      "_________________________________________________________________\n",
      "dense_1 (Dense)              (None, 3)                 166503    \n",
      "_________________________________________________________________\n",
      "dropout_1 (Dropout)          (None, 3)                 0         \n",
      "=================================================================\n",
      "Total params: 186,273\n",
      "Trainable params: 186,273\n",
      "Non-trainable params: 0\n",
      "_________________________________________________________________\n",
      "None\n"
     ]
    }
   ],
   "source": [
    "# Fit 1d CNN for static HAR\n",
    "\n",
    "seed(2017)\n",
    "model = Sequential()\n",
    "model.add(Conv1D(30, 3, input_shape=(561, 1), activation='relu'))\n",
    "model.add(Conv1D(50, 3, activation='relu'))\n",
    "model.add(Conv1D(100, 3, activation='relu'))\n",
    "model.add(Flatten())\n",
    "model.add(Dense(3, activation='softmax'))\n",
    "model.add(Dropout(0.50))\n",
    "\n",
    "adam = Adam(lr=0.0001, beta_1=0.9, beta_2=0.999, epsilon=1e-08, decay=0.0)\n",
    "model.compile(loss='mean_squared_error', optimizer=adam, metrics=['accuracy'])\n",
    "\n",
    "# Summarize layers\n",
    "print(model.summary())"
   ]
  },
  {
   "cell_type": "code",
   "execution_count": 0,
   "metadata": {
    "colab": {},
    "colab_type": "code",
    "id": "FAVXAQrklx5T"
   },
   "outputs": [],
   "source": [
    "new_dir = 'model/static.hdf5'\n",
    "if not os.path.exists(new_dir):\n",
    "    os.makedirs(new_dir)\n",
    "fpath = new_dir + 'weights.{epoch:02d}-{val_acc:.2f}.hdf5'\n",
    "\n",
    "cp_cb = ModelCheckpoint(fpath, monitor='val_loss', verbose=1, save_best_only=True, mode='auto', period=1)"
   ]
  },
  {
   "cell_type": "code",
   "execution_count": 36,
   "metadata": {
    "colab": {
     "base_uri": "https://localhost:8080/",
     "height": 1000
    },
    "colab_type": "code",
    "id": "VShw0uXHlx5a",
    "outputId": "860440fd-d7f6-4774-cfa9-bc60ee99c8d3"
   },
   "outputs": [
    {
     "name": "stderr",
     "output_type": "stream",
     "text": [
      "W0703 06:56:43.990327 139679021356928 deprecation_wrapper.py:119] From /usr/local/lib/python3.6/dist-packages/keras/backend/tensorflow_backend.py:986: The name tf.assign_add is deprecated. Please use tf.compat.v1.assign_add instead.\n",
      "\n"
     ]
    },
    {
     "name": "stdout",
     "output_type": "stream",
     "text": [
      "Train on 3253 samples, validate on 814 samples\n",
      "Epoch 1/100\n",
      "3253/3253 [==============================] - 7s 2ms/step - loss: 0.3174 - acc: 0.4141 - val_loss: 0.1536 - val_acc: 0.9779\n",
      "\n",
      "Epoch 00001: val_loss improved from inf to 0.15364, saving model to model/weights.01-0.98.hdf5\n",
      "Epoch 2/100\n",
      "3253/3253 [==============================] - 1s 359us/step - loss: 0.2625 - acc: 0.5106 - val_loss: 0.0554 - val_acc: 1.0000\n",
      "\n",
      "Epoch 00002: val_loss improved from 0.15364 to 0.05542, saving model to model/weights.02-1.00.hdf5\n",
      "Epoch 3/100\n",
      "3253/3253 [==============================] - 1s 344us/step - loss: 0.2535 - acc: 0.5244 - val_loss: 0.0412 - val_acc: 1.0000\n",
      "\n",
      "Epoch 00003: val_loss improved from 0.05542 to 0.04118, saving model to model/weights.03-1.00.hdf5\n",
      "Epoch 4/100\n",
      "3253/3253 [==============================] - 1s 340us/step - loss: 0.2415 - acc: 0.5453 - val_loss: 0.0620 - val_acc: 0.9877\n",
      "\n",
      "Epoch 00004: val_loss did not improve from 0.04118\n",
      "Epoch 5/100\n",
      "3253/3253 [==============================] - 1s 335us/step - loss: 0.2436 - acc: 0.5389 - val_loss: 0.0552 - val_acc: 0.9926\n",
      "\n",
      "Epoch 00005: val_loss did not improve from 0.04118\n",
      "Epoch 6/100\n",
      "3253/3253 [==============================] - 1s 337us/step - loss: 0.2414 - acc: 0.5395 - val_loss: 0.0358 - val_acc: 1.0000\n",
      "\n",
      "Epoch 00006: val_loss improved from 0.04118 to 0.03582, saving model to model/weights.06-1.00.hdf5\n",
      "Epoch 7/100\n",
      "3253/3253 [==============================] - 1s 346us/step - loss: 0.2397 - acc: 0.5392 - val_loss: 0.0626 - val_acc: 0.9877\n",
      "\n",
      "Epoch 00007: val_loss did not improve from 0.03582\n",
      "Epoch 8/100\n",
      "3253/3253 [==============================] - 1s 339us/step - loss: 0.2338 - acc: 0.5493 - val_loss: 0.0550 - val_acc: 0.9975\n",
      "\n",
      "Epoch 00008: val_loss did not improve from 0.03582\n",
      "Epoch 9/100\n",
      "3253/3253 [==============================] - 1s 337us/step - loss: 0.2402 - acc: 0.5309 - val_loss: 0.0450 - val_acc: 1.0000\n",
      "\n",
      "Epoch 00009: val_loss did not improve from 0.03582\n",
      "Epoch 10/100\n",
      "3253/3253 [==============================] - 1s 346us/step - loss: 0.2332 - acc: 0.5487 - val_loss: 0.0632 - val_acc: 0.9840\n",
      "\n",
      "Epoch 00010: val_loss did not improve from 0.03582\n",
      "Epoch 11/100\n",
      "3253/3253 [==============================] - 1s 336us/step - loss: 0.2348 - acc: 0.5441 - val_loss: 0.0445 - val_acc: 0.9975\n",
      "\n",
      "Epoch 00011: val_loss did not improve from 0.03582\n",
      "Epoch 12/100\n",
      "3253/3253 [==============================] - 1s 359us/step - loss: 0.2352 - acc: 0.5478 - val_loss: 0.0544 - val_acc: 0.9975\n",
      "\n",
      "Epoch 00012: val_loss did not improve from 0.03582\n",
      "Epoch 13/100\n",
      "3253/3253 [==============================] - 1s 343us/step - loss: 0.2351 - acc: 0.5447 - val_loss: 0.0519 - val_acc: 0.9951\n",
      "\n",
      "Epoch 00013: val_loss did not improve from 0.03582\n",
      "Epoch 14/100\n",
      "3253/3253 [==============================] - 1s 342us/step - loss: 0.2323 - acc: 0.5463 - val_loss: 0.0622 - val_acc: 0.9902\n",
      "\n",
      "Epoch 00014: val_loss did not improve from 0.03582\n",
      "Epoch 15/100\n",
      "3253/3253 [==============================] - 1s 338us/step - loss: 0.2360 - acc: 0.5395 - val_loss: 0.0634 - val_acc: 0.9816\n",
      "\n",
      "Epoch 00015: val_loss did not improve from 0.03582\n",
      "Epoch 16/100\n",
      "3253/3253 [==============================] - 1s 335us/step - loss: 0.2331 - acc: 0.5444 - val_loss: 0.0544 - val_acc: 0.9951\n",
      "\n",
      "Epoch 00016: val_loss did not improve from 0.03582\n",
      "Epoch 17/100\n",
      "3253/3253 [==============================] - 1s 337us/step - loss: 0.2324 - acc: 0.5595 - val_loss: 0.0710 - val_acc: 0.9889\n",
      "\n",
      "Epoch 00017: val_loss did not improve from 0.03582\n",
      "Epoch 18/100\n",
      "3253/3253 [==============================] - 1s 336us/step - loss: 0.2338 - acc: 0.5444 - val_loss: 0.0609 - val_acc: 0.9939\n",
      "\n",
      "Epoch 00018: val_loss did not improve from 0.03582\n",
      "Epoch 19/100\n",
      "3253/3253 [==============================] - 1s 336us/step - loss: 0.2342 - acc: 0.5484 - val_loss: 0.0580 - val_acc: 0.9926\n",
      "\n",
      "Epoch 00019: val_loss did not improve from 0.03582\n",
      "Epoch 20/100\n",
      "3253/3253 [==============================] - 1s 337us/step - loss: 0.2263 - acc: 0.5644 - val_loss: 0.0513 - val_acc: 0.9963\n",
      "\n",
      "Epoch 00020: val_loss did not improve from 0.03582\n",
      "Epoch 21/100\n",
      "3253/3253 [==============================] - 1s 346us/step - loss: 0.2330 - acc: 0.5496 - val_loss: 0.0622 - val_acc: 0.9926\n",
      "\n",
      "Epoch 00021: val_loss did not improve from 0.03582\n",
      "Epoch 22/100\n",
      "3253/3253 [==============================] - 1s 341us/step - loss: 0.2332 - acc: 0.5463 - val_loss: 0.0466 - val_acc: 0.9975\n",
      "\n",
      "Epoch 00022: val_loss did not improve from 0.03582\n",
      "Epoch 23/100\n",
      "3253/3253 [==============================] - 1s 342us/step - loss: 0.2351 - acc: 0.5361 - val_loss: 0.0591 - val_acc: 0.9963\n",
      "\n",
      "Epoch 00023: val_loss did not improve from 0.03582\n",
      "Epoch 24/100\n",
      "3253/3253 [==============================] - 1s 341us/step - loss: 0.2360 - acc: 0.5275 - val_loss: 0.0519 - val_acc: 0.9975\n",
      "\n",
      "Epoch 00024: val_loss did not improve from 0.03582\n",
      "Epoch 25/100\n",
      "3253/3253 [==============================] - 1s 339us/step - loss: 0.2370 - acc: 0.5321 - val_loss: 0.0581 - val_acc: 0.9951\n",
      "\n",
      "Epoch 00025: val_loss did not improve from 0.03582\n",
      "Epoch 26/100\n",
      "3253/3253 [==============================] - 1s 337us/step - loss: 0.2327 - acc: 0.5453 - val_loss: 0.0524 - val_acc: 0.9988\n",
      "\n",
      "Epoch 00026: val_loss did not improve from 0.03582\n",
      "Epoch 27/100\n",
      "3253/3253 [==============================] - 1s 336us/step - loss: 0.2278 - acc: 0.5527 - val_loss: 0.0741 - val_acc: 0.9828\n",
      "\n",
      "Epoch 00027: val_loss did not improve from 0.03582\n",
      "Epoch 28/100\n",
      "3253/3253 [==============================] - 1s 333us/step - loss: 0.2338 - acc: 0.5475 - val_loss: 0.0620 - val_acc: 0.9951\n",
      "\n",
      "Epoch 00028: val_loss did not improve from 0.03582\n",
      "Epoch 29/100\n",
      "3253/3253 [==============================] - 1s 335us/step - loss: 0.2313 - acc: 0.5441 - val_loss: 0.0605 - val_acc: 0.9926\n",
      "\n",
      "Epoch 00029: val_loss did not improve from 0.03582\n",
      "Epoch 30/100\n",
      "3253/3253 [==============================] - 1s 334us/step - loss: 0.2353 - acc: 0.5275 - val_loss: 0.0567 - val_acc: 0.9951\n",
      "\n",
      "Epoch 00030: val_loss did not improve from 0.03582\n",
      "Epoch 31/100\n",
      "3253/3253 [==============================] - 1s 337us/step - loss: 0.2306 - acc: 0.5558 - val_loss: 0.0559 - val_acc: 0.9975\n",
      "\n",
      "Epoch 00031: val_loss did not improve from 0.03582\n",
      "Epoch 32/100\n",
      "3253/3253 [==============================] - 1s 341us/step - loss: 0.2299 - acc: 0.5521 - val_loss: 0.0643 - val_acc: 0.9939\n",
      "\n",
      "Epoch 00032: val_loss did not improve from 0.03582\n",
      "Epoch 33/100\n",
      "3253/3253 [==============================] - 1s 348us/step - loss: 0.2324 - acc: 0.5450 - val_loss: 0.0804 - val_acc: 0.9840\n",
      "\n",
      "Epoch 00033: val_loss did not improve from 0.03582\n",
      "Epoch 34/100\n",
      "3253/3253 [==============================] - 1s 348us/step - loss: 0.2348 - acc: 0.5367 - val_loss: 0.0587 - val_acc: 0.9939\n",
      "\n",
      "Epoch 00034: val_loss did not improve from 0.03582\n",
      "Epoch 35/100\n",
      "3253/3253 [==============================] - 1s 342us/step - loss: 0.2305 - acc: 0.5450 - val_loss: 0.0604 - val_acc: 0.9951\n",
      "\n",
      "Epoch 00035: val_loss did not improve from 0.03582\n",
      "Epoch 36/100\n",
      "3253/3253 [==============================] - 1s 341us/step - loss: 0.2311 - acc: 0.5429 - val_loss: 0.0660 - val_acc: 0.9951\n",
      "\n",
      "Epoch 00036: val_loss did not improve from 0.03582\n",
      "Epoch 37/100\n",
      "3253/3253 [==============================] - 1s 337us/step - loss: 0.2314 - acc: 0.5512 - val_loss: 0.0590 - val_acc: 0.9975\n",
      "\n",
      "Epoch 00037: val_loss did not improve from 0.03582\n",
      "Epoch 38/100\n",
      "3253/3253 [==============================] - 1s 340us/step - loss: 0.2293 - acc: 0.5570 - val_loss: 0.0612 - val_acc: 0.9902\n",
      "\n",
      "Epoch 00038: val_loss did not improve from 0.03582\n",
      "Epoch 39/100\n",
      "3253/3253 [==============================] - 1s 339us/step - loss: 0.2326 - acc: 0.5472 - val_loss: 0.0587 - val_acc: 0.9951\n",
      "\n",
      "Epoch 00039: val_loss did not improve from 0.03582\n",
      "Epoch 40/100\n",
      "3253/3253 [==============================] - 1s 339us/step - loss: 0.2313 - acc: 0.5457 - val_loss: 0.0641 - val_acc: 0.9975\n",
      "\n",
      "Epoch 00040: val_loss did not improve from 0.03582\n",
      "Epoch 41/100\n",
      "3253/3253 [==============================] - 1s 333us/step - loss: 0.2322 - acc: 0.5417 - val_loss: 0.0458 - val_acc: 1.0000\n",
      "\n",
      "Epoch 00041: val_loss did not improve from 0.03582\n",
      "Epoch 42/100\n",
      "3253/3253 [==============================] - 1s 333us/step - loss: 0.2322 - acc: 0.5453 - val_loss: 0.0584 - val_acc: 0.9975\n",
      "\n",
      "Epoch 00042: val_loss did not improve from 0.03582\n",
      "Epoch 43/100\n",
      "3253/3253 [==============================] - 1s 334us/step - loss: 0.2329 - acc: 0.5407 - val_loss: 0.0610 - val_acc: 0.9902\n",
      "\n",
      "Epoch 00043: val_loss did not improve from 0.03582\n",
      "Epoch 44/100\n",
      "3253/3253 [==============================] - 1s 335us/step - loss: 0.2323 - acc: 0.5543 - val_loss: 0.0611 - val_acc: 0.9975\n",
      "\n",
      "Epoch 00044: val_loss did not improve from 0.03582\n",
      "Epoch 45/100\n",
      "3253/3253 [==============================] - 1s 333us/step - loss: 0.2294 - acc: 0.5515 - val_loss: 0.0706 - val_acc: 0.9951\n",
      "\n",
      "Epoch 00045: val_loss did not improve from 0.03582\n",
      "Epoch 46/100\n",
      "3253/3253 [==============================] - 1s 332us/step - loss: 0.2314 - acc: 0.5463 - val_loss: 0.0575 - val_acc: 0.9975\n",
      "\n",
      "Epoch 00046: val_loss did not improve from 0.03582\n",
      "Epoch 47/100\n",
      "3253/3253 [==============================] - 1s 337us/step - loss: 0.2277 - acc: 0.5619 - val_loss: 0.0598 - val_acc: 0.9951\n",
      "\n",
      "Epoch 00047: val_loss did not improve from 0.03582\n",
      "Epoch 48/100\n",
      "3253/3253 [==============================] - 1s 333us/step - loss: 0.2315 - acc: 0.5441 - val_loss: 0.0537 - val_acc: 0.9975\n",
      "\n",
      "Epoch 00048: val_loss did not improve from 0.03582\n",
      "Epoch 49/100\n",
      "3253/3253 [==============================] - 1s 340us/step - loss: 0.2317 - acc: 0.5503 - val_loss: 0.0535 - val_acc: 0.9963\n",
      "\n",
      "Epoch 00049: val_loss did not improve from 0.03582\n",
      "Epoch 50/100\n",
      "3253/3253 [==============================] - 1s 340us/step - loss: 0.2348 - acc: 0.5294 - val_loss: 0.0708 - val_acc: 0.9914\n",
      "\n",
      "Epoch 00050: val_loss did not improve from 0.03582\n",
      "Epoch 51/100\n",
      "3253/3253 [==============================] - 1s 336us/step - loss: 0.2293 - acc: 0.5506 - val_loss: 0.0681 - val_acc: 0.9877\n",
      "\n",
      "Epoch 00051: val_loss did not improve from 0.03582\n",
      "Epoch 52/100\n",
      "3253/3253 [==============================] - 1s 338us/step - loss: 0.2350 - acc: 0.5294 - val_loss: 0.0684 - val_acc: 0.9889\n",
      "\n",
      "Epoch 00052: val_loss did not improve from 0.03582\n",
      "Epoch 53/100\n",
      "3253/3253 [==============================] - 1s 340us/step - loss: 0.2258 - acc: 0.5607 - val_loss: 0.0852 - val_acc: 0.9853\n",
      "\n",
      "Epoch 00053: val_loss did not improve from 0.03582\n",
      "Epoch 54/100\n",
      "3253/3253 [==============================] - 1s 346us/step - loss: 0.2336 - acc: 0.5389 - val_loss: 0.0589 - val_acc: 0.9926\n",
      "\n",
      "Epoch 00054: val_loss did not improve from 0.03582\n",
      "Epoch 55/100\n",
      "3253/3253 [==============================] - 1s 351us/step - loss: 0.2338 - acc: 0.5380 - val_loss: 0.0610 - val_acc: 0.9963\n",
      "\n",
      "Epoch 00055: val_loss did not improve from 0.03582\n",
      "Epoch 56/100\n",
      "3253/3253 [==============================] - 1s 339us/step - loss: 0.2300 - acc: 0.5463 - val_loss: 0.0571 - val_acc: 0.9988\n",
      "\n",
      "Epoch 00056: val_loss did not improve from 0.03582\n",
      "Epoch 57/100\n",
      "3253/3253 [==============================] - 1s 343us/step - loss: 0.2353 - acc: 0.5355 - val_loss: 0.0535 - val_acc: 0.9988\n",
      "\n",
      "Epoch 00057: val_loss did not improve from 0.03582\n",
      "Epoch 58/100\n",
      "3253/3253 [==============================] - 1s 338us/step - loss: 0.2310 - acc: 0.5524 - val_loss: 0.0502 - val_acc: 0.9988\n",
      "\n",
      "Epoch 00058: val_loss did not improve from 0.03582\n",
      "Epoch 59/100\n",
      "3253/3253 [==============================] - 1s 340us/step - loss: 0.2287 - acc: 0.5579 - val_loss: 0.0421 - val_acc: 1.0000\n",
      "\n",
      "Epoch 00059: val_loss did not improve from 0.03582\n",
      "Epoch 60/100\n",
      "3253/3253 [==============================] - 1s 335us/step - loss: 0.2311 - acc: 0.5380 - val_loss: 0.0509 - val_acc: 1.0000\n",
      "\n",
      "Epoch 00060: val_loss did not improve from 0.03582\n",
      "Epoch 61/100\n",
      "3253/3253 [==============================] - 1s 341us/step - loss: 0.2286 - acc: 0.5490 - val_loss: 0.0518 - val_acc: 1.0000\n",
      "\n",
      "Epoch 00061: val_loss did not improve from 0.03582\n",
      "Epoch 62/100\n",
      "3253/3253 [==============================] - 1s 340us/step - loss: 0.2299 - acc: 0.5453 - val_loss: 0.0664 - val_acc: 0.9975\n",
      "\n",
      "Epoch 00062: val_loss did not improve from 0.03582\n",
      "Epoch 63/100\n",
      "3253/3253 [==============================] - 1s 340us/step - loss: 0.2281 - acc: 0.5616 - val_loss: 0.0780 - val_acc: 0.9951\n",
      "\n",
      "Epoch 00063: val_loss did not improve from 0.03582\n",
      "Epoch 64/100\n",
      "3253/3253 [==============================] - 1s 344us/step - loss: 0.2331 - acc: 0.5395 - val_loss: 0.0630 - val_acc: 1.0000\n",
      "\n",
      "Epoch 00064: val_loss did not improve from 0.03582\n",
      "Epoch 65/100\n",
      "3253/3253 [==============================] - 1s 341us/step - loss: 0.2307 - acc: 0.5444 - val_loss: 0.0823 - val_acc: 0.9865\n",
      "\n",
      "Epoch 00065: val_loss did not improve from 0.03582\n",
      "Epoch 66/100\n",
      "3253/3253 [==============================] - 1s 336us/step - loss: 0.2336 - acc: 0.5457 - val_loss: 0.0614 - val_acc: 0.9963\n",
      "\n",
      "Epoch 00066: val_loss did not improve from 0.03582\n",
      "Epoch 67/100\n",
      "3253/3253 [==============================] - 1s 342us/step - loss: 0.2278 - acc: 0.5536 - val_loss: 0.0648 - val_acc: 0.9939\n",
      "\n",
      "Epoch 00067: val_loss did not improve from 0.03582\n",
      "Epoch 68/100\n",
      "3253/3253 [==============================] - 1s 340us/step - loss: 0.2315 - acc: 0.5395 - val_loss: 0.0434 - val_acc: 1.0000\n",
      "\n",
      "Epoch 00068: val_loss did not improve from 0.03582\n",
      "Epoch 69/100\n",
      "3253/3253 [==============================] - 1s 334us/step - loss: 0.2281 - acc: 0.5500 - val_loss: 0.0625 - val_acc: 0.9988\n",
      "\n",
      "Epoch 00069: val_loss did not improve from 0.03582\n",
      "Epoch 70/100\n",
      "3253/3253 [==============================] - 1s 337us/step - loss: 0.2330 - acc: 0.5450 - val_loss: 0.0513 - val_acc: 1.0000\n",
      "\n",
      "Epoch 00070: val_loss did not improve from 0.03582\n",
      "Epoch 71/100\n",
      "3253/3253 [==============================] - 1s 338us/step - loss: 0.2251 - acc: 0.5607 - val_loss: 0.0555 - val_acc: 0.9963\n",
      "\n",
      "Epoch 00071: val_loss did not improve from 0.03582\n",
      "Epoch 72/100\n",
      "3253/3253 [==============================] - 1s 337us/step - loss: 0.2347 - acc: 0.5300 - val_loss: 0.0717 - val_acc: 0.9877\n",
      "\n",
      "Epoch 00072: val_loss did not improve from 0.03582\n",
      "Epoch 73/100\n",
      "3253/3253 [==============================] - 1s 341us/step - loss: 0.2325 - acc: 0.5395 - val_loss: 0.0654 - val_acc: 0.9988\n",
      "\n",
      "Epoch 00073: val_loss did not improve from 0.03582\n",
      "Epoch 74/100\n",
      "3253/3253 [==============================] - 1s 341us/step - loss: 0.2346 - acc: 0.5303 - val_loss: 0.0502 - val_acc: 0.9988\n",
      "\n",
      "Epoch 00074: val_loss did not improve from 0.03582\n",
      "Epoch 75/100\n",
      "3253/3253 [==============================] - 1s 342us/step - loss: 0.2287 - acc: 0.5570 - val_loss: 0.0578 - val_acc: 0.9975\n",
      "\n",
      "Epoch 00075: val_loss did not improve from 0.03582\n",
      "Epoch 76/100\n",
      "3253/3253 [==============================] - 1s 348us/step - loss: 0.2333 - acc: 0.5380 - val_loss: 0.0661 - val_acc: 0.9988\n",
      "\n",
      "Epoch 00076: val_loss did not improve from 0.03582\n",
      "Epoch 77/100\n",
      "3253/3253 [==============================] - 1s 341us/step - loss: 0.2290 - acc: 0.5481 - val_loss: 0.0520 - val_acc: 0.9988\n",
      "\n",
      "Epoch 00077: val_loss did not improve from 0.03582\n",
      "Epoch 78/100\n",
      "3253/3253 [==============================] - 1s 344us/step - loss: 0.2309 - acc: 0.5423 - val_loss: 0.0597 - val_acc: 0.9939\n",
      "\n",
      "Epoch 00078: val_loss did not improve from 0.03582\n",
      "Epoch 79/100\n",
      "3253/3253 [==============================] - 1s 339us/step - loss: 0.2272 - acc: 0.5573 - val_loss: 0.0528 - val_acc: 1.0000\n",
      "\n",
      "Epoch 00079: val_loss did not improve from 0.03582\n",
      "Epoch 80/100\n",
      "3253/3253 [==============================] - 1s 341us/step - loss: 0.2317 - acc: 0.5429 - val_loss: 0.0584 - val_acc: 0.9975\n",
      "\n",
      "Epoch 00080: val_loss did not improve from 0.03582\n",
      "Epoch 81/100\n",
      "3253/3253 [==============================] - 1s 340us/step - loss: 0.2262 - acc: 0.5506 - val_loss: 0.0719 - val_acc: 0.9951\n",
      "\n",
      "Epoch 00081: val_loss did not improve from 0.03582\n",
      "Epoch 82/100\n",
      "3253/3253 [==============================] - 1s 339us/step - loss: 0.2277 - acc: 0.5601 - val_loss: 0.0741 - val_acc: 0.9902\n",
      "\n",
      "Epoch 00082: val_loss did not improve from 0.03582\n",
      "Epoch 83/100\n",
      "3253/3253 [==============================] - 1s 344us/step - loss: 0.2304 - acc: 0.5469 - val_loss: 0.0638 - val_acc: 0.9975\n",
      "\n",
      "Epoch 00083: val_loss did not improve from 0.03582\n",
      "Epoch 84/100\n",
      "3253/3253 [==============================] - 1s 340us/step - loss: 0.2323 - acc: 0.5327 - val_loss: 0.0673 - val_acc: 0.9975\n",
      "\n",
      "Epoch 00084: val_loss did not improve from 0.03582\n",
      "Epoch 85/100\n",
      "3253/3253 [==============================] - 1s 334us/step - loss: 0.2305 - acc: 0.5469 - val_loss: 0.0634 - val_acc: 0.9951\n",
      "\n",
      "Epoch 00085: val_loss did not improve from 0.03582\n",
      "Epoch 86/100\n",
      "3253/3253 [==============================] - 1s 336us/step - loss: 0.2264 - acc: 0.5564 - val_loss: 0.0562 - val_acc: 0.9988\n",
      "\n",
      "Epoch 00086: val_loss did not improve from 0.03582\n",
      "Epoch 87/100\n",
      "3253/3253 [==============================] - 1s 337us/step - loss: 0.2332 - acc: 0.5475 - val_loss: 0.0693 - val_acc: 0.9975\n",
      "\n",
      "Epoch 00087: val_loss did not improve from 0.03582\n",
      "Epoch 88/100\n",
      "3253/3253 [==============================] - 1s 340us/step - loss: 0.2331 - acc: 0.5352 - val_loss: 0.0524 - val_acc: 1.0000\n",
      "\n",
      "Epoch 00088: val_loss did not improve from 0.03582\n",
      "Epoch 89/100\n",
      "3253/3253 [==============================] - 1s 338us/step - loss: 0.2292 - acc: 0.5457 - val_loss: 0.0520 - val_acc: 0.9988\n",
      "\n",
      "Epoch 00089: val_loss did not improve from 0.03582\n",
      "Epoch 90/100\n",
      "3253/3253 [==============================] - 1s 341us/step - loss: 0.2309 - acc: 0.5420 - val_loss: 0.0578 - val_acc: 0.9988\n",
      "\n",
      "Epoch 00090: val_loss did not improve from 0.03582\n",
      "Epoch 91/100\n",
      "3253/3253 [==============================] - 1s 340us/step - loss: 0.2318 - acc: 0.5413 - val_loss: 0.0668 - val_acc: 0.9951\n",
      "\n",
      "Epoch 00091: val_loss did not improve from 0.03582\n",
      "Epoch 92/100\n",
      "3253/3253 [==============================] - 1s 336us/step - loss: 0.2284 - acc: 0.5530 - val_loss: 0.0735 - val_acc: 0.9902\n",
      "\n",
      "Epoch 00092: val_loss did not improve from 0.03582\n",
      "Epoch 93/100\n",
      "3253/3253 [==============================] - 1s 339us/step - loss: 0.2321 - acc: 0.5374 - val_loss: 0.0604 - val_acc: 1.0000\n",
      "\n",
      "Epoch 00093: val_loss did not improve from 0.03582\n",
      "Epoch 94/100\n",
      "3253/3253 [==============================] - 1s 342us/step - loss: 0.2308 - acc: 0.5447 - val_loss: 0.0481 - val_acc: 1.0000\n",
      "\n",
      "Epoch 00094: val_loss did not improve from 0.03582\n",
      "Epoch 95/100\n",
      "3253/3253 [==============================] - 1s 334us/step - loss: 0.2334 - acc: 0.5352 - val_loss: 0.0614 - val_acc: 0.9975\n",
      "\n",
      "Epoch 00095: val_loss did not improve from 0.03582\n",
      "Epoch 96/100\n",
      "3253/3253 [==============================] - 1s 337us/step - loss: 0.2280 - acc: 0.5472 - val_loss: 0.0660 - val_acc: 0.9926\n",
      "\n",
      "Epoch 00096: val_loss did not improve from 0.03582\n",
      "Epoch 97/100\n",
      "3253/3253 [==============================] - 1s 341us/step - loss: 0.2265 - acc: 0.5616 - val_loss: 0.0602 - val_acc: 0.9939\n",
      "\n",
      "Epoch 00097: val_loss did not improve from 0.03582\n",
      "Epoch 98/100\n",
      "3253/3253 [==============================] - 1s 351us/step - loss: 0.2286 - acc: 0.5472 - val_loss: 0.0615 - val_acc: 0.9963\n",
      "\n",
      "Epoch 00098: val_loss did not improve from 0.03582\n",
      "Epoch 99/100\n",
      "3253/3253 [==============================] - 1s 336us/step - loss: 0.2275 - acc: 0.5441 - val_loss: 0.0646 - val_acc: 0.9963\n",
      "\n",
      "Epoch 00099: val_loss did not improve from 0.03582\n",
      "Epoch 100/100\n",
      "3253/3253 [==============================] - 1s 338us/step - loss: 0.2292 - acc: 0.5478 - val_loss: 0.0675 - val_acc: 0.9951\n",
      "\n",
      "Epoch 00100: val_loss did not improve from 0.03582\n"
     ]
    }
   ],
   "source": [
    "history = model.fit(np.expand_dims(X_train, axis=2), y_train_static_oh,\n",
    "          batch_size=32, epochs=100, verbose=1, validation_split=0.2, callbacks=[cp_cb])"
   ]
  },
  {
   "cell_type": "code",
   "execution_count": 61,
   "metadata": {
    "colab": {
     "base_uri": "https://localhost:8080/",
     "height": 312
    },
    "colab_type": "code",
    "id": "9QxnBfeCo_i7",
    "outputId": "ba2fdfc9-b343-4950-d7dd-8e225b8d1d66"
   },
   "outputs": [
    {
     "name": "stdout",
     "output_type": "stream",
     "text": [
      "Train_Accuracy 0.9975411851487583\n"
     ]
    },
    {
     "data": {
      "image/png": "[encoded data removed]",
      "text/plain": [
       "<Figure size 432x288 with 2 Axes>"
      ]
     },
     "metadata": {
      "tags": []
     },
     "output_type": "display_data"
    }
   ],
   "source": [
    "pred_train = model.predict(np.expand_dims(X_train, axis=2), batch_size=32)\n",
    "print(\"Train_Accuracy\",accuracy_score(y_train, np.argmax(pred_train, axis=1)))\n",
    "conf_matrix = confusion_matrix(y_train ,np.argmax(pred_train, axis=1))\n",
    "class_label = ['SITTING','STANDING','LAYING']\n",
    "df_conf_matrix = pd.DataFrame(conf_matrix, index=class_label, columns=class_label)\n",
    "sn.heatmap(df_conf_matrix, annot=True, fmt='d')\n",
    "plt.title(\"Confusion Matrix\")\n",
    "plt.xlabel(\"Predicted\")\n",
    "plt.ylabel(\"Actual\")\n",
    "plt.show()"
   ]
  },
  {
   "cell_type": "code",
   "execution_count": 62,
   "metadata": {
    "colab": {
     "base_uri": "https://localhost:8080/",
     "height": 312
    },
    "colab_type": "code",
    "id": "ESrd4lnxu2K-",
    "outputId": "94e83a2b-7208-49de-a5de-c4d5dea805ed"
   },
   "outputs": [
    {
     "name": "stdout",
     "output_type": "stream",
     "text": [
      "Train_Accuracy 0.9615384615384616\n"
     ]
    },
    {
     "data": {
      "image/png": "[encoded data removed]",
      "text/plain": [
       "<Figure size 432x288 with 2 Axes>"
      ]
     },
     "metadata": {
      "tags": []
     },
     "output_type": "display_data"
    }
   ],
   "source": [
    "pred_test = model.predict(np.expand_dims(X_test, axis=2), batch_size=32)\n",
    "print(\"Train_Accuracy\",accuracy_score(y_test, np.argmax(pred_test, axis=1)))\n",
    "conf_matrix = confusion_matrix(y_test ,np.argmax(pred_test, axis=1))\n",
    "class_label = ['SITTING','STANDING','LAYING']\n",
    "df_conf_matrix = pd.DataFrame(conf_matrix, index=class_label, columns=class_label)\n",
    "sn.heatmap(df_conf_matrix, annot=True, fmt='d')\n",
    "plt.title(\"Confusion Matrix\")\n",
    "plt.xlabel(\"Predicted\")\n",
    "plt.ylabel(\"Actual\")\n",
    "plt.show()"
   ]
  },
  {
   "cell_type": "code",
   "execution_count": 0,
   "metadata": {
    "colab": {},
    "colab_type": "code",
    "id": "a63XQbq_lx5e"
   },
   "outputs": [],
   "source": [
    "del model\n",
    "K.clear_session()"
   ]
  },
  {
   "cell_type": "markdown",
   "metadata": {
    "colab_type": "text",
    "id": "Mj4Q8JxHlx5n"
   },
   "source": [
    "# Obtaing Dynamic Data From Our Dataset"
   ]
  },
  {
   "cell_type": "code",
   "execution_count": 0,
   "metadata": {
    "colab": {},
    "colab_type": "code",
    "id": "G_qDmpGNlx5o"
   },
   "outputs": [],
   "source": [
    "# Select dynamic HAR train data\n",
    "\n",
    "dynamic_1 = np.where(y_train_all == 1)[0]\n",
    "dynamic_2 = np.where(y_train_all == 2)[0]\n",
    "dynamic_3 = np.where(y_train_all == 3)[0]\n",
    "dynamic = np.concatenate([dynamic_1, dynamic_2, dynamic_3])\n",
    "dynamic_list = dynamic.tolist()"
   ]
  },
  {
   "cell_type": "code",
   "execution_count": 0,
   "metadata": {
    "colab": {},
    "colab_type": "code",
    "id": "NkMlyhMLlx5x"
   },
   "outputs": [],
   "source": [
    "# Shuffle dynamic data index\n",
    "r = random.random()\n",
    "random.shuffle(dynamic_list, lambda: r)"
   ]
  },
  {
   "cell_type": "code",
   "execution_count": 0,
   "metadata": {
    "colab": {},
    "colab_type": "code",
    "id": "8LN4a1cklx54"
   },
   "outputs": [],
   "source": [
    "dynamic = np.array(dynamic_list)\n",
    "\n",
    "X_train = X_train_all[dynamic]\n",
    "y_train = y_train_all[dynamic]"
   ]
  },
  {
   "cell_type": "code",
   "execution_count": 0,
   "metadata": {
    "colab": {},
    "colab_type": "code",
    "id": "SMnAEDx6lx5-"
   },
   "outputs": [],
   "source": [
    "# Convert (1, 2, 3) labels to (0, 1, 2)\n",
    "y_train  = y_train - 1"
   ]
  },
  {
   "cell_type": "code",
   "execution_count": 70,
   "metadata": {
    "colab": {
     "base_uri": "https://localhost:8080/",
     "height": 34
    },
    "colab_type": "code",
    "id": "Q3Ivu36slx6C",
    "outputId": "5abbfad5-9b57-4176-b0e6-b523f805a3bd"
   },
   "outputs": [
    {
     "name": "stdout",
     "output_type": "stream",
     "text": [
      "train_dynamic shape:  (3285, 561)\n"
     ]
    }
   ],
   "source": [
    "print (\"train_dynamic shape: \", X_train.shape)"
   ]
  },
  {
   "cell_type": "code",
   "execution_count": 0,
   "metadata": {
    "colab": {},
    "colab_type": "code",
    "id": "RIt_60V2lx6I"
   },
   "outputs": [],
   "source": [
    "# Select dynamic HAR test data\n",
    "\n",
    "dynamic_1 = np.where(y_test_all == 1)[0]\n",
    "dynamic_2 = np.where(y_test_all == 2)[0]\n",
    "dynamic_3 = np.where(y_test_all == 3)[0]\n",
    "dynamic = np.concatenate([dynamic_1, dynamic_2, dynamic_3])"
   ]
  },
  {
   "cell_type": "code",
   "execution_count": 0,
   "metadata": {
    "colab": {},
    "colab_type": "code",
    "id": "U153-0PJlx6M"
   },
   "outputs": [],
   "source": [
    "X_test = X_test_all[dynamic]\n",
    "y_test = y_test_all[dynamic]"
   ]
  },
  {
   "cell_type": "code",
   "execution_count": 0,
   "metadata": {
    "colab": {},
    "colab_type": "code",
    "id": "F3gvJPtJlx6R"
   },
   "outputs": [],
   "source": [
    "# Convert (1, 2, 3) labels to (0, 1, 2)\n",
    "y_test  = y_test - 1"
   ]
  },
  {
   "cell_type": "code",
   "execution_count": 74,
   "metadata": {
    "colab": {
     "base_uri": "https://localhost:8080/",
     "height": 34
    },
    "colab_type": "code",
    "id": "rH6YUK10lx6Y",
    "outputId": "0009b354-b7d9-4a31-e979-c51bb44cceed"
   },
   "outputs": [
    {
     "name": "stdout",
     "output_type": "stream",
     "text": [
      "test_dynamic shape:  (1387, 561)\n"
     ]
    }
   ],
   "source": [
    "print (\"test_dynamic shape: \", X_test.shape)"
   ]
  },
  {
   "cell_type": "code",
   "execution_count": 0,
   "metadata": {
    "colab": {},
    "colab_type": "code",
    "id": "6gWlUdl1lx6g"
   },
   "outputs": [],
   "source": [
    "# Convert to one hot encoding vector\n",
    "y_train_dynamic_oh = np.eye(n_classes)[y_train]"
   ]
  },
  {
   "cell_type": "code",
   "execution_count": 14,
   "metadata": {},
   "outputs": [
    {
     "data": {
      "image/png": "[encoded data removed]",
      "text/plain": [
       "<IPython.core.display.Image object>"
      ]
     },
     "metadata": {},
     "output_type": "display_data"
    }
   ],
   "source": [
    "from IPython.display import display, Image\n",
    "display(Image(filename='Dynamic.png'))"
   ]
  },
  {
   "cell_type": "code",
   "execution_count": 77,
   "metadata": {
    "colab": {
     "base_uri": "https://localhost:8080/",
     "height": 377
    },
    "colab_type": "code",
    "id": "HO-7pRirlx6n",
    "outputId": "1a931e5d-3471-4d8c-9645-277cf7eae1b7"
   },
   "outputs": [
    {
     "name": "stderr",
     "output_type": "stream",
     "text": [
      "W0703 07:33:52.570039 139679021356928 deprecation_wrapper.py:119] From /usr/local/lib/python3.6/dist-packages/keras/backend/tensorflow_backend.py:3976: The name tf.nn.max_pool is deprecated. Please use tf.nn.max_pool2d instead.\n",
      "\n"
     ]
    },
    {
     "name": "stdout",
     "output_type": "stream",
     "text": [
      "_________________________________________________________________\n",
      "Layer (type)                 Output Shape              Param #   \n",
      "=================================================================\n",
      "conv1d_2 (Conv1D)            (None, 559, 100)          400       \n",
      "_________________________________________________________________\n",
      "max_pooling1d_1 (MaxPooling1 (None, 186, 100)          0         \n",
      "_________________________________________________________________\n",
      "flatten_1 (Flatten)          (None, 18600)             0         \n",
      "_________________________________________________________________\n",
      "dense_1 (Dense)              (None, 3)                 55803     \n",
      "_________________________________________________________________\n",
      "dropout_1 (Dropout)          (None, 3)                 0         \n",
      "=================================================================\n",
      "Total params: 56,203\n",
      "Trainable params: 56,203\n",
      "Non-trainable params: 0\n",
      "_________________________________________________________________\n",
      "None\n"
     ]
    }
   ],
   "source": [
    "# Fit 1d CNN for dynamic HAR\n",
    "from keras.layers import MaxPooling1D\n",
    "seed(2017)\n",
    "model = Sequential()\n",
    "model.add(Conv1D(100, 3, input_shape=(561, 1), activation='relu'))\n",
    "model.add(MaxPooling1D(3))\n",
    "model.add(Flatten())\n",
    "model.add(Dense(3, activation='softmax'))\n",
    "model.add(Dropout(0.5))\n",
    "\n",
    "adam = Adam(lr=0.0004, beta_1=0.9, beta_2=0.999, epsilon=1e-08, decay=0.0)\n",
    "model.compile(loss='mean_squared_error', optimizer=adam, metrics=['accuracy'])\n",
    "\n",
    "# Summarize layers\n",
    "print(model.summary())"
   ]
  },
  {
   "cell_type": "code",
   "execution_count": 0,
   "metadata": {
    "colab": {},
    "colab_type": "code",
    "id": "wc3WpEtIlx6s"
   },
   "outputs": [],
   "source": [
    "new_dir = 'model/'\n",
    "fpath = new_dir + 'weights.{epoch:02d}-{val_acc:.2f}.hdf5'\n",
    "\n",
    "cp_cb = ModelCheckpoint(fpath, monitor='val_loss', verbose=1, save_best_only=True, mode='auto', period=1)"
   ]
  },
  {
   "cell_type": "code",
   "execution_count": 79,
   "metadata": {
    "colab": {
     "base_uri": "https://localhost:8080/",
     "height": 1000
    },
    "colab_type": "code",
    "id": "K1-SzUHalx6x",
    "outputId": "2a11808b-07e5-42e8-c0c7-9769158db2f8"
   },
   "outputs": [
    {
     "name": "stdout",
     "output_type": "stream",
     "text": [
      "Train on 2628 samples, validate on 657 samples\n",
      "Epoch 1/50\n",
      " - 1s - loss: 0.2756 - acc: 0.5088 - val_loss: 0.1735 - val_acc: 0.6317\n",
      "\n",
      "Epoch 00001: val_loss improved from inf to 0.17350, saving model to model/weights.01-0.63.hdf5\n",
      "Epoch 2/50\n",
      " - 1s - loss: 0.2448 - acc: 0.5426 - val_loss: 0.1088 - val_acc: 0.8600\n",
      "\n",
      "Epoch 00002: val_loss improved from 0.17350 to 0.10884, saving model to model/weights.02-0.86.hdf5\n",
      "Epoch 3/50\n",
      " - 1s - loss: 0.2349 - acc: 0.5559 - val_loss: 0.1127 - val_acc: 0.8402\n",
      "\n",
      "Epoch 00003: val_loss did not improve from 0.10884\n",
      "Epoch 4/50\n",
      " - 1s - loss: 0.2379 - acc: 0.5445 - val_loss: 0.1600 - val_acc: 0.6514\n",
      "\n",
      "Epoch 00004: val_loss did not improve from 0.10884\n",
      "Epoch 5/50\n",
      " - 1s - loss: 0.2323 - acc: 0.5635 - val_loss: 0.1427 - val_acc: 0.7123\n",
      "\n",
      "Epoch 00005: val_loss did not improve from 0.10884\n",
      "Epoch 6/50\n",
      " - 1s - loss: 0.2331 - acc: 0.5582 - val_loss: 0.0909 - val_acc: 0.9209\n",
      "\n",
      "Epoch 00006: val_loss improved from 0.10884 to 0.09087, saving model to model/weights.06-0.92.hdf5\n",
      "Epoch 7/50\n",
      " - 1s - loss: 0.2296 - acc: 0.5708 - val_loss: 0.0907 - val_acc: 0.9102\n",
      "\n",
      "Epoch 00007: val_loss improved from 0.09087 to 0.09067, saving model to model/weights.07-0.91.hdf5\n",
      "Epoch 8/50\n",
      " - 1s - loss: 0.2319 - acc: 0.5491 - val_loss: 0.1296 - val_acc: 0.7778\n",
      "\n",
      "Epoch 00008: val_loss did not improve from 0.09067\n",
      "Epoch 9/50\n",
      " - 1s - loss: 0.2346 - acc: 0.5502 - val_loss: 0.1208 - val_acc: 0.8341\n",
      "\n",
      "Epoch 00009: val_loss did not improve from 0.09067\n",
      "Epoch 10/50\n",
      " - 1s - loss: 0.2247 - acc: 0.5681 - val_loss: 0.1129 - val_acc: 0.8569\n",
      "\n",
      "Epoch 00010: val_loss did not improve from 0.09067\n",
      "Epoch 11/50\n",
      " - 1s - loss: 0.2346 - acc: 0.5422 - val_loss: 0.1090 - val_acc: 0.8508\n",
      "\n",
      "Epoch 00011: val_loss did not improve from 0.09067\n",
      "Epoch 12/50\n",
      " - 1s - loss: 0.2335 - acc: 0.5472 - val_loss: 0.0937 - val_acc: 0.9087\n",
      "\n",
      "Epoch 00012: val_loss did not improve from 0.09067\n",
      "Epoch 13/50\n",
      " - 1s - loss: 0.2261 - acc: 0.5719 - val_loss: 0.0712 - val_acc: 0.9528\n",
      "\n",
      "Epoch 00013: val_loss improved from 0.09067 to 0.07124, saving model to model/weights.13-0.95.hdf5\n",
      "Epoch 14/50\n",
      " - 1s - loss: 0.2314 - acc: 0.5479 - val_loss: 0.1171 - val_acc: 0.8067\n",
      "\n",
      "Epoch 00014: val_loss did not improve from 0.07124\n",
      "Epoch 15/50\n",
      " - 1s - loss: 0.2265 - acc: 0.5658 - val_loss: 0.1251 - val_acc: 0.8037\n",
      "\n",
      "Epoch 00015: val_loss did not improve from 0.07124\n",
      "Epoch 16/50\n",
      " - 1s - loss: 0.2354 - acc: 0.5419 - val_loss: 0.0824 - val_acc: 0.9285\n",
      "\n",
      "Epoch 00016: val_loss did not improve from 0.07124\n",
      "Epoch 17/50\n",
      " - 1s - loss: 0.2307 - acc: 0.5582 - val_loss: 0.0961 - val_acc: 0.8858\n",
      "\n",
      "Epoch 00017: val_loss did not improve from 0.07124\n",
      "Epoch 18/50\n",
      " - 1s - loss: 0.2294 - acc: 0.5548 - val_loss: 0.0895 - val_acc: 0.9148\n",
      "\n",
      "Epoch 00018: val_loss did not improve from 0.07124\n",
      "Epoch 19/50\n",
      " - 1s - loss: 0.2291 - acc: 0.5575 - val_loss: 0.1159 - val_acc: 0.8067\n",
      "\n",
      "Epoch 00019: val_loss did not improve from 0.07124\n",
      "Epoch 20/50\n",
      " - 1s - loss: 0.2276 - acc: 0.5632 - val_loss: 0.1482 - val_acc: 0.7215\n",
      "\n",
      "Epoch 00020: val_loss did not improve from 0.07124\n",
      "Epoch 21/50\n",
      " - 1s - loss: 0.2361 - acc: 0.5289 - val_loss: 0.1110 - val_acc: 0.8463\n",
      "\n",
      "Epoch 00021: val_loss did not improve from 0.07124\n",
      "Epoch 22/50\n",
      " - 1s - loss: 0.2315 - acc: 0.5464 - val_loss: 0.1326 - val_acc: 0.7656\n",
      "\n",
      "Epoch 00022: val_loss did not improve from 0.07124\n",
      "Epoch 23/50\n",
      " - 1s - loss: 0.2322 - acc: 0.5495 - val_loss: 0.1114 - val_acc: 0.8432\n",
      "\n",
      "Epoch 00023: val_loss did not improve from 0.07124\n",
      "Epoch 24/50\n",
      " - 1s - loss: 0.2298 - acc: 0.5518 - val_loss: 0.1231 - val_acc: 0.8037\n",
      "\n",
      "Epoch 00024: val_loss did not improve from 0.07124\n",
      "Epoch 25/50\n",
      " - 1s - loss: 0.2216 - acc: 0.5746 - val_loss: 0.0984 - val_acc: 0.8737\n",
      "\n",
      "Epoch 00025: val_loss did not improve from 0.07124\n",
      "Epoch 26/50\n",
      " - 1s - loss: 0.2244 - acc: 0.5723 - val_loss: 0.1465 - val_acc: 0.7291\n",
      "\n",
      "Epoch 00026: val_loss did not improve from 0.07124\n",
      "Epoch 27/50\n",
      " - 1s - loss: 0.2272 - acc: 0.5639 - val_loss: 0.1093 - val_acc: 0.8600\n",
      "\n",
      "Epoch 00027: val_loss did not improve from 0.07124\n",
      "Epoch 28/50\n",
      " - 1s - loss: 0.2262 - acc: 0.5654 - val_loss: 0.1142 - val_acc: 0.8447\n",
      "\n",
      "Epoch 00028: val_loss did not improve from 0.07124\n",
      "Epoch 29/50\n",
      " - 1s - loss: 0.2343 - acc: 0.5403 - val_loss: 0.1399 - val_acc: 0.7306\n",
      "\n",
      "Epoch 00029: val_loss did not improve from 0.07124\n",
      "Epoch 30/50\n",
      " - 1s - loss: 0.2286 - acc: 0.5506 - val_loss: 0.1151 - val_acc: 0.8341\n",
      "\n",
      "Epoch 00030: val_loss did not improve from 0.07124\n",
      "Epoch 31/50\n",
      " - 1s - loss: 0.2287 - acc: 0.5601 - val_loss: 0.1142 - val_acc: 0.8387\n",
      "\n",
      "Epoch 00031: val_loss did not improve from 0.07124\n",
      "Epoch 32/50\n",
      " - 1s - loss: 0.2283 - acc: 0.5632 - val_loss: 0.1561 - val_acc: 0.7169\n",
      "\n",
      "Epoch 00032: val_loss did not improve from 0.07124\n",
      "Epoch 33/50\n",
      " - 1s - loss: 0.2241 - acc: 0.5624 - val_loss: 0.1010 - val_acc: 0.8767\n",
      "\n",
      "Epoch 00033: val_loss did not improve from 0.07124\n",
      "Epoch 34/50\n",
      " - 1s - loss: 0.2293 - acc: 0.5563 - val_loss: 0.0909 - val_acc: 0.8904\n",
      "\n",
      "Epoch 00034: val_loss did not improve from 0.07124\n",
      "Epoch 35/50\n",
      " - 1s - loss: 0.2262 - acc: 0.5632 - val_loss: 0.1347 - val_acc: 0.7808\n",
      "\n",
      "Epoch 00035: val_loss did not improve from 0.07124\n",
      "Epoch 36/50\n",
      " - 1s - loss: 0.2288 - acc: 0.5594 - val_loss: 0.1270 - val_acc: 0.8021\n",
      "\n",
      "Epoch 00036: val_loss did not improve from 0.07124\n",
      "Epoch 37/50\n",
      " - 1s - loss: 0.2295 - acc: 0.5525 - val_loss: 0.1056 - val_acc: 0.8661\n",
      "\n",
      "Epoch 00037: val_loss did not improve from 0.07124\n",
      "Epoch 38/50\n",
      " - 1s - loss: 0.2286 - acc: 0.5601 - val_loss: 0.1011 - val_acc: 0.8858\n",
      "\n",
      "Epoch 00038: val_loss did not improve from 0.07124\n",
      "Epoch 39/50\n",
      " - 1s - loss: 0.2291 - acc: 0.5548 - val_loss: 0.1121 - val_acc: 0.8280\n",
      "\n",
      "Epoch 00039: val_loss did not improve from 0.07124\n",
      "Epoch 40/50\n",
      " - 1s - loss: 0.2299 - acc: 0.5464 - val_loss: 0.0857 - val_acc: 0.9041\n",
      "\n",
      "Epoch 00040: val_loss did not improve from 0.07124\n",
      "Epoch 41/50\n",
      " - 1s - loss: 0.2272 - acc: 0.5571 - val_loss: 0.0972 - val_acc: 0.8721\n",
      "\n",
      "Epoch 00041: val_loss did not improve from 0.07124\n",
      "Epoch 42/50\n",
      " - 1s - loss: 0.2257 - acc: 0.5693 - val_loss: 0.0957 - val_acc: 0.8995\n",
      "\n",
      "Epoch 00042: val_loss did not improve from 0.07124\n",
      "Epoch 43/50\n",
      " - 1s - loss: 0.2262 - acc: 0.5559 - val_loss: 0.1173 - val_acc: 0.8326\n",
      "\n",
      "Epoch 00043: val_loss did not improve from 0.07124\n",
      "Epoch 44/50\n",
      " - 1s - loss: 0.2232 - acc: 0.5712 - val_loss: 0.1152 - val_acc: 0.8432\n",
      "\n",
      "Epoch 00044: val_loss did not improve from 0.07124\n",
      "Epoch 45/50\n",
      " - 1s - loss: 0.2230 - acc: 0.5674 - val_loss: 0.1215 - val_acc: 0.8250\n",
      "\n",
      "Epoch 00045: val_loss did not improve from 0.07124\n",
      "Epoch 46/50\n",
      " - 1s - loss: 0.2257 - acc: 0.5628 - val_loss: 0.1026 - val_acc: 0.8569\n",
      "\n",
      "Epoch 00046: val_loss did not improve from 0.07124\n",
      "Epoch 47/50\n",
      " - 1s - loss: 0.2292 - acc: 0.5468 - val_loss: 0.1053 - val_acc: 0.8478\n",
      "\n",
      "Epoch 00047: val_loss did not improve from 0.07124\n",
      "Epoch 48/50\n",
      " - 1s - loss: 0.2219 - acc: 0.5696 - val_loss: 0.1096 - val_acc: 0.8478\n",
      "\n",
      "Epoch 00048: val_loss did not improve from 0.07124\n",
      "Epoch 49/50\n",
      " - 1s - loss: 0.2227 - acc: 0.5597 - val_loss: 0.1076 - val_acc: 0.8539\n",
      "\n",
      "Epoch 00049: val_loss did not improve from 0.07124\n",
      "Epoch 50/50\n",
      " - 1s - loss: 0.2258 - acc: 0.5632 - val_loss: 0.1117 - val_acc: 0.8417\n",
      "\n",
      "Epoch 00050: val_loss did not improve from 0.07124\n"
     ]
    }
   ],
   "source": [
    "history = model.fit(np.expand_dims(X_train, axis=2), y_train_dynamic_oh,\n",
    "          batch_size=32, epochs=50, verbose=2, validation_split=0.2, callbacks=[cp_cb])"
   ]
  },
  {
   "cell_type": "code",
   "execution_count": 82,
   "metadata": {
    "colab": {
     "base_uri": "https://localhost:8080/",
     "height": 420
    },
    "colab_type": "code",
    "id": "ZwFNjLcGwpaP",
    "outputId": "62c59057-5e86-4e48-88e7-ca1dd640429a"
   },
   "outputs": [
    {
     "name": "stdout",
     "output_type": "stream",
     "text": [
      "Train_Accuracy 0.9683409436834094\n"
     ]
    },
    {
     "data": {
      "image/png": "[encoded data removed]",
      "text/plain": [
       "<Figure size 432x288 with 2 Axes>"
      ]
     },
     "metadata": {
      "tags": []
     },
     "output_type": "display_data"
    }
   ],
   "source": [
    "pred_train = model.predict(np.expand_dims(X_train, axis=2), batch_size=32)\n",
    "print(\"Train_Accuracy\",accuracy_score(y_train, np.argmax(pred_train, axis=1)))\n",
    "conf_matrix = confusion_matrix(y_train ,np.argmax(pred_train, axis=1))\n",
    "class_label = ['WALKING','WALKING UPSTAIRS','WALKING DOWNSTAIRS']\n",
    "df_conf_matrix = pd.DataFrame(conf_matrix, index=class_label, columns=class_label)\n",
    "sn.heatmap(df_conf_matrix, annot=True, fmt='d')\n",
    "plt.title(\"Confusion Matrix\")\n",
    "plt.xlabel(\"Predicted\")\n",
    "plt.ylabel(\"Actual\")\n",
    "plt.show()"
   ]
  },
  {
   "cell_type": "code",
   "execution_count": 84,
   "metadata": {
    "colab": {
     "base_uri": "https://localhost:8080/",
     "height": 420
    },
    "colab_type": "code",
    "id": "tPv33R-7w5mY",
    "outputId": "51df2720-a11f-4c5e-e64a-f4fbb34bc213"
   },
   "outputs": [
    {
     "name": "stdout",
     "output_type": "stream",
     "text": [
      "Train_Accuracy 0.9567411679884643\n"
     ]
    },
    {
     "data": {
      "image/png": "[encoded data removed]",
      "text/plain": [
       "<Figure size 432x288 with 2 Axes>"
      ]
     },
     "metadata": {
      "tags": []
     },
     "output_type": "display_data"
    }
   ],
   "source": [
    "pred_test = model.predict(np.expand_dims(X_test, axis=2), batch_size=32)\n",
    "print(\"Train_Accuracy\",accuracy_score(y_test, np.argmax(pred_test, axis=1)))\n",
    "conf_matrix = confusion_matrix(y_test ,np.argmax(pred_test, axis=1))\n",
    "class_label = ['WALKING','WALKING UPSTAIRS','WALKING DOWNSTAIRS']\n",
    "df_conf_matrix = pd.DataFrame(conf_matrix, index=class_label, columns=class_label)\n",
    "sn.heatmap(df_conf_matrix, annot=True, fmt='d')\n",
    "plt.title(\"Confusion Matrix\")\n",
    "plt.xlabel(\"Predicted\")\n",
    "plt.ylabel(\"Actual\")\n",
    "plt.show()"
   ]
  },
  {
   "cell_type": "code",
   "execution_count": 6,
   "metadata": {},
   "outputs": [
    {
     "name": "stdout",
     "output_type": "stream",
     "text": [
      "+-------+---------+-------------------+------------------+\n",
      "| Model |   Data  | Accuracy on Train | Accuracy on Test |\n",
      "+-------+---------+-------------------+------------------+\n",
      "|  CNN  |  Static |       99.75       |      96.15       |\n",
      "|  CNN  | Dynamic |       96.83       |      95.67       |\n",
      "+-------+---------+-------------------+------------------+\n"
     ]
    }
   ],
   "source": [
    "from prettytable import PrettyTable\n",
    "x=PrettyTable()\n",
    "x.field_names=['Model','Data','Accuracy on Train','Accuracy on Test']\n",
    "x.add_row(['CNN','Static',99.75,96.15])\n",
    "x.add_row(['CNN','Dynamic',96.83,95.67])\n",
    "print(x)"
   ]
  },
  {
   "cell_type": "markdown",
   "metadata": {
    "colab_type": "text",
    "id": "HwV84kpPyG-I"
   },
   "source": [
    "# Conclusions :"
   ]
  },
  {
   "cell_type": "markdown",
   "metadata": {
    "colab": {},
    "colab_type": "code",
    "id": "edYbkf6oyGJU"
   },
   "source": [
    "####  Here we Divided our data into two parts\n",
    " + Static\n",
    " + Dynamic\n",
    "#### Static Data contains three activities which are:\n",
    "      + Standing\n",
    "      + Sitting\n",
    "      + Laying"
   ]
  },
  {
   "cell_type": "markdown",
   "metadata": {},
   "source": [
    "#### Second Division\n",
    " + =========================================\n",
    " #### Dynamic Data is divided into following three categories\n",
    "    + Walking\n",
    "    + Walking Upstairs\n",
    "    + Walking Downstairs"
   ]
  },
  {
   "cell_type": "markdown",
   "metadata": {},
   "source": [
    "<b>After that we build a CNN model on top of this<b>\n",
    "    <br><b>After Building The CNN Model The Accuracy we got on Test Data is:\n",
    "    <br>Accuracy on Static : 96.15 %\n",
    "    <br>Accuracy on Dynamic: 95.67 %\n",
    "    \n",
    "<br> Therefore We got a good Accuracy and we saved our models into a hdf5 file"
   ]
  },
  {
   "cell_type": "markdown",
   "metadata": {},
   "source": [
    "### References:"
   ]
  },
  {
   "cell_type": "markdown",
   "metadata": {},
   "source": [
    "https://github.com/heeryoncho/sensors2018cnnhar/tree/master/har <br>\n",
    "https://www.ncbi.nlm.nih.gov/pmc/articles/PMC5949027/"
   ]
  }
 ],
 "metadata": {
  "accelerator": "GPU",
  "colab": {
   "name": "HAR_DIVIDE_AND_CONQUER.ipynb",
   "provenance": [],
   "version": "0.3.2"
  },
  "kernelspec": {
   "display_name": "Python 3",
   "language": "python",
   "name": "python3"
  },
  "language_info": {
   "codemirror_mode": {
    "name": "ipython",
    "version": 3
   },
   "file_extension": ".py",
   "mimetype": "text/x-python",
   "name": "python",
   "nbconvert_exporter": "python",
   "pygments_lexer": "ipython3",
   "version": "3.7.3"
  }
 },
 "nbformat": 4,
 "nbformat_minor": 1
}
