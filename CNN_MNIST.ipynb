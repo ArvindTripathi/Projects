{
 "cells": [
  {
   "cell_type": "markdown",
   "metadata": {
    "colab_type": "text",
    "id": "mOIJmIZ7zjEg"
   },
   "source": [
    "# CNN MNIST"
   ]
  },
  {
   "cell_type": "markdown",
   "metadata": {
    "colab_type": "text",
    "id": "ky7dw5pLs6Db"
   },
   "source": [
    "### 3x3 Kernel & 2x2 Pooling with Dropout"
   ]
  },
  {
   "cell_type": "code",
   "execution_count": 15,
   "metadata": {
    "colab": {
     "base_uri": "https://localhost:8080/",
     "height": 527
    },
    "colab_type": "code",
    "id": "H9EU0e8yzFOm",
    "outputId": "e79fdd2c-e916-4948-d76d-0fa493b4eb83"
   },
   "outputs": [
    {
     "name": "stdout",
     "output_type": "stream",
     "text": [
      "x_train shape: (60000, 28, 28, 1)\n",
      "60000 train samples\n",
      "10000 test samples\n",
      "Train on 60000 samples, validate on 10000 samples\n",
      "Epoch 1/12\n",
      "60000/60000 [==============================] - 5s 91us/step - loss: 0.2718 - acc: 0.9158 - val_loss: 0.0587 - val_acc: 0.9812\n",
      "Epoch 2/12\n",
      "60000/60000 [==============================] - 5s 77us/step - loss: 0.0877 - acc: 0.9747 - val_loss: 0.0387 - val_acc: 0.9868\n",
      "Epoch 3/12\n",
      "60000/60000 [==============================] - 5s 77us/step - loss: 0.0661 - acc: 0.9800 - val_loss: 0.0317 - val_acc: 0.9893\n",
      "Epoch 4/12\n",
      "60000/60000 [==============================] - 5s 77us/step - loss: 0.0530 - acc: 0.9846 - val_loss: 0.0329 - val_acc: 0.9891\n",
      "Epoch 5/12\n",
      "60000/60000 [==============================] - 5s 77us/step - loss: 0.0468 - acc: 0.9860 - val_loss: 0.0315 - val_acc: 0.9891\n",
      "Epoch 6/12\n",
      "60000/60000 [==============================] - 5s 77us/step - loss: 0.0410 - acc: 0.9876 - val_loss: 0.0281 - val_acc: 0.9904\n",
      "Epoch 7/12\n",
      "60000/60000 [==============================] - 5s 77us/step - loss: 0.0381 - acc: 0.9887 - val_loss: 0.0328 - val_acc: 0.9886\n",
      "Epoch 8/12\n",
      "60000/60000 [==============================] - 5s 78us/step - loss: 0.0331 - acc: 0.9897 - val_loss: 0.0284 - val_acc: 0.9896\n",
      "Epoch 9/12\n",
      "60000/60000 [==============================] - 5s 78us/step - loss: 0.0321 - acc: 0.9902 - val_loss: 0.0253 - val_acc: 0.9910\n",
      "Epoch 10/12\n",
      "60000/60000 [==============================] - 5s 78us/step - loss: 0.0310 - acc: 0.9905 - val_loss: 0.0250 - val_acc: 0.9915\n",
      "Epoch 11/12\n",
      "60000/60000 [==============================] - 5s 77us/step - loss: 0.0271 - acc: 0.9917 - val_loss: 0.0251 - val_acc: 0.9915\n",
      "Epoch 12/12\n",
      "60000/60000 [==============================] - 5s 77us/step - loss: 0.0266 - acc: 0.9915 - val_loss: 0.0239 - val_acc: 0.9915\n",
      "Test loss: 0.023874433244507418\n",
      "Test accuracy: 0.9915\n"
     ]
    }
   ],
   "source": [
    "# Credits: https://github.com/keras-team/keras/blob/master/examples/mnist_cnn.py\n",
    "\n",
    "\n",
    "from __future__ import print_function\n",
    "import keras\n",
    "from keras.datasets import mnist\n",
    "from keras.models import Sequential\n",
    "from keras.layers import Dense, Dropout, Flatten\n",
    "from keras.layers import Conv2D, MaxPooling2D\n",
    "from keras import backend as K\n",
    "\n",
    "batch_size = 128\n",
    "num_classes = 10\n",
    "epochs = 12\n",
    "\n",
    "# input image dimensions\n",
    "img_rows, img_cols = 28, 28\n",
    "\n",
    "# the data, split between train and test sets\n",
    "(x_train, y_train), (x_test, y_test) = mnist.load_data()\n",
    "\n",
    "if K.image_data_format() == 'channels_first':\n",
    "    x_train = x_train.reshape(x_train.shape[0], 1, img_rows, img_cols)\n",
    "    x_test = x_test.reshape(x_test.shape[0], 1, img_rows, img_cols)\n",
    "    input_shape = (1, img_rows, img_cols)\n",
    "else:\n",
    "    x_train = x_train.reshape(x_train.shape[0], img_rows, img_cols, 1)\n",
    "    x_test = x_test.reshape(x_test.shape[0], img_rows, img_cols, 1)\n",
    "    input_shape = (img_rows, img_cols, 1)\n",
    "\n",
    "x_train = x_train.astype('float32')\n",
    "x_test = x_test.astype('float32')\n",
    "x_train /= 255\n",
    "x_test /= 255\n",
    "print('x_train shape:', x_train.shape)\n",
    "print(x_train.shape[0], 'train samples')\n",
    "print(x_test.shape[0], 'test samples')\n",
    "\n",
    "# convert class vectors to binary class matrices\n",
    "y_train = keras.utils.to_categorical(y_train, num_classes)\n",
    "y_test = keras.utils.to_categorical(y_test, num_classes)\n",
    "\n",
    "model = Sequential()\n",
    "model.add(Conv2D(32, kernel_size=(3, 3),\n",
    "                 activation='relu',\n",
    "                 input_shape=input_shape))\n",
    "model.add(Conv2D(64, (3, 3), activation='relu'))\n",
    "model.add(MaxPooling2D(pool_size=(2, 2)))\n",
    "model.add(Dropout(0.25))\n",
    "model.add(Flatten())\n",
    "model.add(Dense(128, activation='relu'))\n",
    "model.add(Dropout(0.5))\n",
    "model.add(Dense(num_classes, activation='softmax'))\n",
    "\n",
    "model.compile(loss=keras.losses.categorical_crossentropy,\n",
    "              optimizer=keras.optimizers.Adadelta(),\n",
    "              metrics=['accuracy'])\n",
    "\n",
    "history = model.fit(x_train, y_train,\n",
    "          batch_size=batch_size,\n",
    "          epochs=epochs,\n",
    "          verbose=1,\n",
    "          validation_data=(x_test, y_test))\n",
    "score = model.evaluate(x_test, y_test, verbose=0)\n",
    "print('Test loss:', score[0])\n",
    "print('Test accuracy:', score[1])"
   ]
  },
  {
   "cell_type": "markdown",
   "metadata": {
    "colab_type": "text",
    "id": "-wMqvH7Rxyso"
   },
   "source": [
    "#### Plotting"
   ]
  },
  {
   "cell_type": "code",
   "execution_count": 0,
   "metadata": {
    "colab": {},
    "colab_type": "code",
    "id": "ujqnYT2UyLl7"
   },
   "outputs": [],
   "source": [
    "%matplotlib notebook\n",
    "%matplotlib inline\n",
    "import matplotlib.pyplot as plt\n",
    "import numpy as np\n",
    "import time\n",
    "def plt_dynamic(x, vy, ty,  colors=['b']):\n",
    "    fig,ax = plt.subplots(1,1)\n",
    "    ax.set_xlabel('epoch') \n",
    "    ax.set_ylabel('Categorical Crossentropy Loss')\n",
    "    ax.plot(x, vy, 'b', label=\"Validation Loss\")\n",
    "    ax.plot(x, ty, 'r', label=\"Train Loss\")\n",
    "    plt.legend()\n",
    "    plt.grid()\n",
    "    fig.canvas.draw()"
   ]
  },
  {
   "cell_type": "code",
   "execution_count": 19,
   "metadata": {
    "colab": {
     "base_uri": "https://localhost:8080/",
     "height": 283
    },
    "colab_type": "code",
    "id": "r6QYjTyvxyLO",
    "outputId": "447c1f16-1461-40d0-8293-f7f8a877ff14"
   },
   "outputs": [
    {
     "data": {
      "image/png": "[encoded data removed]",
      "text/plain": [
       "<Figure size 432x288 with 1 Axes>"
      ]
     },
     "metadata": {
      "tags": []
     },
     "output_type": "display_data"
    }
   ],
   "source": [
    "vy = history.history['val_loss']\n",
    "ty = history.history['loss']\n",
    "x = list(range(1,epochs+1))\n",
    "\n",
    "plt_dynamic(x, vy, ty)\n"
   ]
  },
  {
   "cell_type": "markdown",
   "metadata": {
    "colab_type": "text",
    "id": "7N0GjQ6eszcL"
   },
   "source": [
    "### 5x5 Kernel & 4x4 Pooling With Dropout"
   ]
  },
  {
   "cell_type": "code",
   "execution_count": 20,
   "metadata": {
    "colab": {
     "base_uri": "https://localhost:8080/",
     "height": 527
    },
    "colab_type": "code",
    "id": "b2OM6INhqd3d",
    "outputId": "66f63992-d8ae-4675-b54c-5537c536f714"
   },
   "outputs": [
    {
     "name": "stdout",
     "output_type": "stream",
     "text": [
      "x_train shape: (60000, 28, 28, 1)\n",
      "60000 train samples\n",
      "10000 test samples\n",
      "Train on 60000 samples, validate on 10000 samples\n",
      "Epoch 1/12\n",
      "60000/60000 [==============================] - 5s 86us/step - loss: 0.2547 - acc: 0.9209 - val_loss: 0.0561 - val_acc: 0.9823\n",
      "Epoch 2/12\n",
      "60000/60000 [==============================] - 4s 72us/step - loss: 0.0882 - acc: 0.9733 - val_loss: 0.0375 - val_acc: 0.9874\n",
      "Epoch 3/12\n",
      "60000/60000 [==============================] - 4s 73us/step - loss: 0.0678 - acc: 0.9798 - val_loss: 0.0304 - val_acc: 0.9897\n",
      "Epoch 4/12\n",
      "60000/60000 [==============================] - 4s 74us/step - loss: 0.0583 - acc: 0.9832 - val_loss: 0.0235 - val_acc: 0.9926\n",
      "Epoch 5/12\n",
      "60000/60000 [==============================] - 5s 75us/step - loss: 0.0495 - acc: 0.9852 - val_loss: 0.0229 - val_acc: 0.9920\n",
      "Epoch 6/12\n",
      "60000/60000 [==============================] - 4s 74us/step - loss: 0.0431 - acc: 0.9871 - val_loss: 0.0244 - val_acc: 0.9920\n",
      "Epoch 7/12\n",
      "60000/60000 [==============================] - 4s 73us/step - loss: 0.0388 - acc: 0.9884 - val_loss: 0.0247 - val_acc: 0.9927\n",
      "Epoch 8/12\n",
      "60000/60000 [==============================] - 4s 73us/step - loss: 0.0352 - acc: 0.9897 - val_loss: 0.0183 - val_acc: 0.9936\n",
      "Epoch 9/12\n",
      "60000/60000 [==============================] - 4s 73us/step - loss: 0.0347 - acc: 0.9899 - val_loss: 0.0210 - val_acc: 0.9930\n",
      "Epoch 10/12\n",
      "60000/60000 [==============================] - 4s 73us/step - loss: 0.0319 - acc: 0.9902 - val_loss: 0.0164 - val_acc: 0.9941\n",
      "Epoch 11/12\n",
      "60000/60000 [==============================] - 4s 73us/step - loss: 0.0302 - acc: 0.9906 - val_loss: 0.0198 - val_acc: 0.9937\n",
      "Epoch 12/12\n",
      "60000/60000 [==============================] - 4s 73us/step - loss: 0.0282 - acc: 0.9914 - val_loss: 0.0176 - val_acc: 0.9942\n",
      "Test loss: 0.017634830278650225\n",
      "Test accuracy: 0.9942\n"
     ]
    }
   ],
   "source": [
    "epochs = 12\n",
    "print('x_train shape:', x_train.shape)\n",
    "print(x_train.shape[0], 'train samples')\n",
    "print(x_test.shape[0], 'test samples')\n",
    "\n",
    "model = Sequential()\n",
    "model.add(Conv2D(32, kernel_size=(5, 5),\n",
    "                 activation='relu',\n",
    "                 input_shape=input_shape))\n",
    "model.add(Conv2D(64, (5, 5), activation='relu'))\n",
    "model.add(MaxPooling2D(pool_size=(4, 4)))\n",
    "model.add(Dropout(0.25))\n",
    "model.add(Flatten())\n",
    "model.add(Dense(128, activation='relu'))\n",
    "model.add(Dropout(0.5))\n",
    "model.add(Dense(num_classes, activation='softmax'))\n",
    "\n",
    "model.compile(loss=keras.losses.categorical_crossentropy,\n",
    "              optimizer=keras.optimizers.Adadelta(),\n",
    "              metrics=['accuracy'])\n",
    "\n",
    "history = model.fit(x_train, y_train,\n",
    "          batch_size=batch_size,\n",
    "          epochs=epochs,\n",
    "          verbose=1,\n",
    "          validation_data=(x_test, y_test))\n",
    "score = model.evaluate(x_test, y_test, verbose=0)\n",
    "print('Test loss:', score[0])\n",
    "print('Test accuracy:', score[1])"
   ]
  },
  {
   "cell_type": "markdown",
   "metadata": {
    "colab_type": "text",
    "id": "_zkXShRLyYaS"
   },
   "source": [
    "#### Plotting"
   ]
  },
  {
   "cell_type": "code",
   "execution_count": 21,
   "metadata": {
    "colab": {
     "base_uri": "https://localhost:8080/",
     "height": 283
    },
    "colab_type": "code",
    "id": "IkC5XzreyYFD",
    "outputId": "8e275608-1929-49d9-fa5a-9a38db790ba5"
   },
   "outputs": [
    {
     "data": {
      "image/png": "[encoded data removed]",
      "text/plain": [
       "<Figure size 432x288 with 1 Axes>"
      ]
     },
     "metadata": {
      "tags": []
     },
     "output_type": "display_data"
    }
   ],
   "source": [
    "vy = history.history['val_loss']\n",
    "ty = history.history['loss']\n",
    "x = list(range(1,epochs+1))\n",
    "\n",
    "plt_dynamic(x, vy, ty)"
   ]
  },
  {
   "cell_type": "markdown",
   "metadata": {
    "colab_type": "text",
    "id": "zm1cCw30soBt"
   },
   "source": [
    "### 7x7 Kernel & 3x3 Pooling With DropOut And BatchNormalization"
   ]
  },
  {
   "cell_type": "code",
   "execution_count": 22,
   "metadata": {
    "colab": {
     "base_uri": "https://localhost:8080/",
     "height": 527
    },
    "colab_type": "code",
    "id": "AV8kMMRkriN9",
    "outputId": "6813effa-1824-475c-a1a7-5a8cb21136c9"
   },
   "outputs": [
    {
     "name": "stdout",
     "output_type": "stream",
     "text": [
      "x_train shape: (60000, 28, 28, 1)\n",
      "60000 train samples\n",
      "10000 test samples\n",
      "Train on 60000 samples, validate on 10000 samples\n",
      "Epoch 1/12\n",
      "60000/60000 [==============================] - 6s 104us/step - loss: 0.1687 - acc: 0.9489 - val_loss: 0.0480 - val_acc: 0.9851\n",
      "Epoch 2/12\n",
      "60000/60000 [==============================] - 5s 81us/step - loss: 0.0609 - acc: 0.9816 - val_loss: 0.0319 - val_acc: 0.9885\n",
      "Epoch 3/12\n",
      "60000/60000 [==============================] - 5s 80us/step - loss: 0.0436 - acc: 0.9868 - val_loss: 0.0303 - val_acc: 0.9902\n",
      "Epoch 4/12\n",
      "60000/60000 [==============================] - 5s 81us/step - loss: 0.0361 - acc: 0.9888 - val_loss: 0.0308 - val_acc: 0.9905\n",
      "Epoch 5/12\n",
      "60000/60000 [==============================] - 5s 81us/step - loss: 0.0284 - acc: 0.9909 - val_loss: 0.0293 - val_acc: 0.9902\n",
      "Epoch 6/12\n",
      "60000/60000 [==============================] - 5s 80us/step - loss: 0.0261 - acc: 0.9922 - val_loss: 0.0254 - val_acc: 0.9912\n",
      "Epoch 7/12\n",
      "60000/60000 [==============================] - 5s 81us/step - loss: 0.0216 - acc: 0.9932 - val_loss: 0.0206 - val_acc: 0.9935\n",
      "Epoch 8/12\n",
      "60000/60000 [==============================] - 5s 80us/step - loss: 0.0190 - acc: 0.9943 - val_loss: 0.0269 - val_acc: 0.9920\n",
      "Epoch 9/12\n",
      "60000/60000 [==============================] - 5s 81us/step - loss: 0.0167 - acc: 0.9950 - val_loss: 0.0208 - val_acc: 0.9934\n",
      "Epoch 10/12\n",
      "60000/60000 [==============================] - 5s 80us/step - loss: 0.0147 - acc: 0.9953 - val_loss: 0.0186 - val_acc: 0.9941\n",
      "Epoch 11/12\n",
      "60000/60000 [==============================] - 5s 81us/step - loss: 0.0139 - acc: 0.9956 - val_loss: 0.0239 - val_acc: 0.9925\n",
      "Epoch 12/12\n",
      "60000/60000 [==============================] - 5s 80us/step - loss: 0.0114 - acc: 0.9964 - val_loss: 0.0206 - val_acc: 0.9939\n",
      "Test loss: 0.020608068604928302\n",
      "Test accuracy: 0.9939\n"
     ]
    }
   ],
   "source": [
    "from keras.layers import BatchNormalization\n",
    "epochs = 12\n",
    "print('x_train shape:', x_train.shape)\n",
    "print(x_train.shape[0], 'train samples')\n",
    "print(x_test.shape[0], 'test samples')\n",
    "\n",
    "model = Sequential()\n",
    "model.add(Conv2D(32, kernel_size=(7, 7),\n",
    "                 activation='relu',\n",
    "                 input_shape=input_shape))\n",
    "model.add(Conv2D(64, (7, 7), activation='relu'))\n",
    "model.add(MaxPooling2D(pool_size=(3, 3)))\n",
    "model.add(BatchNormalization())\n",
    "model.add(Dropout(0.25))\n",
    "model.add(Flatten())\n",
    "model.add(Dense(128, activation='relu'))\n",
    "model.add(BatchNormalization())\n",
    "model.add(Dropout(0.5))\n",
    "model.add(Dense(num_classes, activation='softmax'))\n",
    "\n",
    "model.compile(loss=keras.losses.categorical_crossentropy,\n",
    "              optimizer=keras.optimizers.Adadelta(),\n",
    "              metrics=['accuracy'])\n",
    "\n",
    "history = model.fit(x_train, y_train,\n",
    "          batch_size=batch_size,\n",
    "          epochs=epochs,\n",
    "          verbose=1,\n",
    "          validation_data=(x_test, y_test))\n",
    "score = model.evaluate(x_test, y_test, verbose=0)\n",
    "print('Test loss:', score[0])\n",
    "print('Test accuracy:', score[1])"
   ]
  },
  {
   "cell_type": "markdown",
   "metadata": {
    "colab_type": "text",
    "id": "pLpzN4xJyf40"
   },
   "source": [
    "#### Plotting"
   ]
  },
  {
   "cell_type": "code",
   "execution_count": 23,
   "metadata": {
    "colab": {
     "base_uri": "https://localhost:8080/",
     "height": 283
    },
    "colab_type": "code",
    "id": "nodvj-D2yh8J",
    "outputId": "f2f7b162-e57d-4ca0-df3b-a2930e02f7e7"
   },
   "outputs": [
    {
     "data": {
      "image/png": "[encoded data removed]",
      "text/plain": [
       "<Figure size 432x288 with 1 Axes>"
      ]
     },
     "metadata": {
      "tags": []
     },
     "output_type": "display_data"
    }
   ],
   "source": [
    "vy = history.history['val_loss']\n",
    "ty = history.history['loss']\n",
    "x = list(range(1,epochs+1))\n",
    "\n",
    "plt_dynamic(x, vy, ty)"
   ]
  },
  {
   "cell_type": "markdown",
   "metadata": {
    "colab_type": "text",
    "id": "BRemIZDPtVW7"
   },
   "source": [
    "### 9x9 Kernel & 5x5 Pooling With Dropout And Batch Normalization"
   ]
  },
  {
   "cell_type": "code",
   "execution_count": 26,
   "metadata": {
    "colab": {
     "base_uri": "https://localhost:8080/",
     "height": 527
    },
    "colab_type": "code",
    "id": "KiaVTvLysV5N",
    "outputId": "3779647d-839d-4d05-9c3a-1232c604aef3"
   },
   "outputs": [
    {
     "name": "stdout",
     "output_type": "stream",
     "text": [
      "x_train shape: (60000, 28, 28, 1)\n",
      "60000 train samples\n",
      "10000 test samples\n",
      "Train on 60000 samples, validate on 10000 samples\n",
      "Epoch 1/12\n",
      "60000/60000 [==============================] - 6s 105us/step - loss: 0.2288 - acc: 0.9304 - val_loss: 0.1582 - val_acc: 0.9511\n",
      "Epoch 2/12\n",
      "60000/60000 [==============================] - 5s 78us/step - loss: 0.0799 - acc: 0.9763 - val_loss: 0.0442 - val_acc: 0.9847\n",
      "Epoch 3/12\n",
      "60000/60000 [==============================] - 5s 79us/step - loss: 0.0566 - acc: 0.9832 - val_loss: 0.0343 - val_acc: 0.9889\n",
      "Epoch 4/12\n",
      "60000/60000 [==============================] - 5s 79us/step - loss: 0.0463 - acc: 0.9866 - val_loss: 0.0306 - val_acc: 0.9902\n",
      "Epoch 5/12\n",
      "60000/60000 [==============================] - 5s 79us/step - loss: 0.0406 - acc: 0.9877 - val_loss: 0.0421 - val_acc: 0.9872\n",
      "Epoch 6/12\n",
      "60000/60000 [==============================] - 5s 79us/step - loss: 0.0338 - acc: 0.9896 - val_loss: 0.0303 - val_acc: 0.9915\n",
      "Epoch 7/12\n",
      "60000/60000 [==============================] - 5s 79us/step - loss: 0.0297 - acc: 0.9907 - val_loss: 0.0354 - val_acc: 0.9899\n",
      "Epoch 8/12\n",
      "60000/60000 [==============================] - 5s 79us/step - loss: 0.0254 - acc: 0.9920 - val_loss: 0.0246 - val_acc: 0.9924\n",
      "Epoch 9/12\n",
      "60000/60000 [==============================] - 5s 80us/step - loss: 0.0231 - acc: 0.9929 - val_loss: 0.0281 - val_acc: 0.9921\n",
      "Epoch 10/12\n",
      "60000/60000 [==============================] - 5s 81us/step - loss: 0.0205 - acc: 0.9935 - val_loss: 0.0267 - val_acc: 0.9921\n",
      "Epoch 11/12\n",
      "60000/60000 [==============================] - 5s 80us/step - loss: 0.0186 - acc: 0.9941 - val_loss: 0.0287 - val_acc: 0.9925\n",
      "Epoch 12/12\n",
      "60000/60000 [==============================] - 5s 79us/step - loss: 0.0159 - acc: 0.9947 - val_loss: 0.0268 - val_acc: 0.9918\n",
      "Test loss: 0.02682330126770139\n",
      "Test accuracy: 0.9918\n"
     ]
    }
   ],
   "source": [
    "from keras.layers import BatchNormalization\n",
    "epochs = 12\n",
    "print('x_train shape:', x_train.shape)\n",
    "print(x_train.shape[0], 'train samples')\n",
    "print(x_test.shape[0], 'test samples')\n",
    "\n",
    "model = Sequential()\n",
    "model.add(Conv2D(32, kernel_size=(9, 9),\n",
    "                 activation='relu',\n",
    "                 input_shape=input_shape))\n",
    "model.add(Conv2D(64, (9, 9), activation='relu'))\n",
    "model.add(MaxPooling2D(pool_size=(5, 5)))\n",
    "model.add(BatchNormalization())\n",
    "model.add(Dropout(0.25))\n",
    "model.add(Flatten())\n",
    "model.add(Dense(128, activation='relu'))\n",
    "model.add(BatchNormalization())\n",
    "model.add(Dropout(0.5))\n",
    "model.add(Dense(num_classes, activation='softmax'))\n",
    "\n",
    "model.compile(loss=keras.losses.categorical_crossentropy,\n",
    "              optimizer=keras.optimizers.Adadelta(),\n",
    "              metrics=['accuracy'])\n",
    "\n",
    "history = model.fit(x_train, y_train,\n",
    "          batch_size=batch_size,\n",
    "          epochs=epochs,\n",
    "          verbose=1,\n",
    "          validation_data=(x_test, y_test))\n",
    "score = model.evaluate(x_test, y_test, verbose=0)\n",
    "print('Test loss:', score[0])\n",
    "print('Test accuracy:', score[1])"
   ]
  },
  {
   "cell_type": "markdown",
   "metadata": {
    "colab_type": "text",
    "id": "OSR8v5Shymu1"
   },
   "source": [
    "#### Plotting"
   ]
  },
  {
   "cell_type": "code",
   "execution_count": 27,
   "metadata": {
    "colab": {
     "base_uri": "https://localhost:8080/",
     "height": 283
    },
    "colab_type": "code",
    "id": "uiP-MNfmyojS",
    "outputId": "3d64216b-cdef-40fb-8707-920879ed924f"
   },
   "outputs": [
    {
     "data": {
      "image/png": "[encoded data removed]",
      "text/plain": [
       "<Figure size 432x288 with 1 Axes>"
      ]
     },
     "metadata": {
      "tags": []
     },
     "output_type": "display_data"
    }
   ],
   "source": [
    "vy = history.history['val_loss']\n",
    "ty = history.history['loss']\n",
    "x = list(range(1,epochs+1))\n",
    "\n",
    "plt_dynamic(x, vy, ty)"
   ]
  },
  {
   "cell_type": "markdown",
   "metadata": {
    "colab_type": "text",
    "id": "Nh8091SyvCDy"
   },
   "source": [
    "### Conclusion"
   ]
  },
  {
   "cell_type": "code",
   "execution_count": 28,
   "metadata": {
    "colab": {
     "base_uri": "https://localhost:8080/",
     "height": 153
    },
    "colab_type": "code",
    "id": "GISdot_ytbT9",
    "outputId": "69781cc5-3021-4b7a-b321-51f089ed01fb"
   },
   "outputs": [
    {
     "name": "stdout",
     "output_type": "stream",
     "text": [
      "+--------+-----------+----------+\n",
      "| Kernel | Test Loss | Accuracy |\n",
      "+--------+-----------+----------+\n",
      "|  3x3   |   0.238   |  99.15   |\n",
      "|  5x5   |   0.176   |  99.42   |\n",
      "|  7x7   |   0.206   |  99.39   |\n",
      "|  9x9   |   0.268   |  99.18   |\n",
      "+--------+-----------+----------+\n"
     ]
    }
   ],
   "source": [
    "from prettytable import PrettyTable\n",
    "x=PrettyTable()\n",
    "x.field_names=['Kernel','Test Loss','Accuracy']\n",
    "x.add_row(['3x3','0.238','99.15'])\n",
    "x.add_row(['5x5','0.176','99.42'])\n",
    "x.add_row(['7x7','0.206','99.39'])\n",
    "x.add_row(['9x9','0.268','99.18'])\n",
    "print(x)"
   ]
  },
  {
   "cell_type": "markdown",
   "metadata": {
    "colab_type": "text",
    "id": "T6gaF7Rfw5Ud"
   },
   "source": [
    "#### As we can see from the above table 5x5 got the highest accuracy among all other kernels"
   ]
  }
 ],
 "metadata": {
  "accelerator": "GPU",
  "colab": {
   "collapsed_sections": [],
   "name": "CNN_MNIST.ipynb",
   "provenance": [],
   "version": "0.3.2"
  },
  "kernelspec": {
   "display_name": "Python 3",
   "language": "python",
   "name": "python3"
  },
  "language_info": {
   "codemirror_mode": {
    "name": "ipython",
    "version": 3
   },
   "file_extension": ".py",
   "mimetype": "text/x-python",
   "name": "python",
   "nbconvert_exporter": "python",
   "pygments_lexer": "ipython3",
   "version": "3.7.3"
  }
 },
 "nbformat": 4,
 "nbformat_minor": 1
}
